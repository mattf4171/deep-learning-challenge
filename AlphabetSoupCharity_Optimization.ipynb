{
 "cells": [
  {
   "cell_type": "markdown",
   "metadata": {},
   "source": [
    "## Preprocessing"
   ]
  },
  {
   "cell_type": "code",
   "execution_count": 1,
   "metadata": {},
   "outputs": [
    {
     "name": "stderr",
     "output_type": "stream",
     "text": [
      "2023-07-31 20:22:32.550182: I tensorflow/core/platform/cpu_feature_guard.cc:193] This TensorFlow binary is optimized with oneAPI Deep Neural Network Library (oneDNN) to use the following CPU instructions in performance-critical operations:  AVX2 FMA\n",
      "To enable them in other operations, rebuild TensorFlow with the appropriate compiler flags.\n"
     ]
    },
    {
     "data": {
      "text/html": [
       "<div>\n",
       "<style scoped>\n",
       "    .dataframe tbody tr th:only-of-type {\n",
       "        vertical-align: middle;\n",
       "    }\n",
       "\n",
       "    .dataframe tbody tr th {\n",
       "        vertical-align: top;\n",
       "    }\n",
       "\n",
       "    .dataframe thead th {\n",
       "        text-align: right;\n",
       "    }\n",
       "</style>\n",
       "<table border=\"1\" class=\"dataframe\">\n",
       "  <thead>\n",
       "    <tr style=\"text-align: right;\">\n",
       "      <th></th>\n",
       "      <th>EIN</th>\n",
       "      <th>NAME</th>\n",
       "      <th>APPLICATION_TYPE</th>\n",
       "      <th>AFFILIATION</th>\n",
       "      <th>CLASSIFICATION</th>\n",
       "      <th>USE_CASE</th>\n",
       "      <th>ORGANIZATION</th>\n",
       "      <th>STATUS</th>\n",
       "      <th>INCOME_AMT</th>\n",
       "      <th>SPECIAL_CONSIDERATIONS</th>\n",
       "      <th>ASK_AMT</th>\n",
       "      <th>IS_SUCCESSFUL</th>\n",
       "    </tr>\n",
       "  </thead>\n",
       "  <tbody>\n",
       "    <tr>\n",
       "      <th>0</th>\n",
       "      <td>10520599</td>\n",
       "      <td>BLUE KNIGHTS MOTORCYCLE CLUB</td>\n",
       "      <td>T10</td>\n",
       "      <td>Independent</td>\n",
       "      <td>C1000</td>\n",
       "      <td>ProductDev</td>\n",
       "      <td>Association</td>\n",
       "      <td>1</td>\n",
       "      <td>0</td>\n",
       "      <td>N</td>\n",
       "      <td>5000</td>\n",
       "      <td>1</td>\n",
       "    </tr>\n",
       "    <tr>\n",
       "      <th>1</th>\n",
       "      <td>10531628</td>\n",
       "      <td>AMERICAN CHESAPEAKE CLUB CHARITABLE TR</td>\n",
       "      <td>T3</td>\n",
       "      <td>Independent</td>\n",
       "      <td>C2000</td>\n",
       "      <td>Preservation</td>\n",
       "      <td>Co-operative</td>\n",
       "      <td>1</td>\n",
       "      <td>1-9999</td>\n",
       "      <td>N</td>\n",
       "      <td>108590</td>\n",
       "      <td>1</td>\n",
       "    </tr>\n",
       "    <tr>\n",
       "      <th>2</th>\n",
       "      <td>10547893</td>\n",
       "      <td>ST CLOUD PROFESSIONAL FIREFIGHTERS</td>\n",
       "      <td>T5</td>\n",
       "      <td>CompanySponsored</td>\n",
       "      <td>C3000</td>\n",
       "      <td>ProductDev</td>\n",
       "      <td>Association</td>\n",
       "      <td>1</td>\n",
       "      <td>0</td>\n",
       "      <td>N</td>\n",
       "      <td>5000</td>\n",
       "      <td>0</td>\n",
       "    </tr>\n",
       "    <tr>\n",
       "      <th>3</th>\n",
       "      <td>10553066</td>\n",
       "      <td>SOUTHSIDE ATHLETIC ASSOCIATION</td>\n",
       "      <td>T3</td>\n",
       "      <td>CompanySponsored</td>\n",
       "      <td>C2000</td>\n",
       "      <td>Preservation</td>\n",
       "      <td>Trust</td>\n",
       "      <td>1</td>\n",
       "      <td>10000-24999</td>\n",
       "      <td>N</td>\n",
       "      <td>6692</td>\n",
       "      <td>1</td>\n",
       "    </tr>\n",
       "    <tr>\n",
       "      <th>4</th>\n",
       "      <td>10556103</td>\n",
       "      <td>GENETIC RESEARCH INSTITUTE OF THE DESERT</td>\n",
       "      <td>T3</td>\n",
       "      <td>Independent</td>\n",
       "      <td>C1000</td>\n",
       "      <td>Heathcare</td>\n",
       "      <td>Trust</td>\n",
       "      <td>1</td>\n",
       "      <td>100000-499999</td>\n",
       "      <td>N</td>\n",
       "      <td>142590</td>\n",
       "      <td>1</td>\n",
       "    </tr>\n",
       "  </tbody>\n",
       "</table>\n",
       "</div>"
      ],
      "text/plain": [
       "        EIN                                      NAME APPLICATION_TYPE  \\\n",
       "0  10520599              BLUE KNIGHTS MOTORCYCLE CLUB              T10   \n",
       "1  10531628    AMERICAN CHESAPEAKE CLUB CHARITABLE TR               T3   \n",
       "2  10547893        ST CLOUD PROFESSIONAL FIREFIGHTERS               T5   \n",
       "3  10553066            SOUTHSIDE ATHLETIC ASSOCIATION               T3   \n",
       "4  10556103  GENETIC RESEARCH INSTITUTE OF THE DESERT               T3   \n",
       "\n",
       "        AFFILIATION CLASSIFICATION      USE_CASE  ORGANIZATION  STATUS  \\\n",
       "0       Independent          C1000    ProductDev   Association       1   \n",
       "1       Independent          C2000  Preservation  Co-operative       1   \n",
       "2  CompanySponsored          C3000    ProductDev   Association       1   \n",
       "3  CompanySponsored          C2000  Preservation         Trust       1   \n",
       "4       Independent          C1000     Heathcare         Trust       1   \n",
       "\n",
       "      INCOME_AMT SPECIAL_CONSIDERATIONS  ASK_AMT  IS_SUCCESSFUL  \n",
       "0              0                      N     5000              1  \n",
       "1         1-9999                      N   108590              1  \n",
       "2              0                      N     5000              0  \n",
       "3    10000-24999                      N     6692              1  \n",
       "4  100000-499999                      N   142590              1  "
      ]
     },
     "execution_count": 1,
     "metadata": {},
     "output_type": "execute_result"
    }
   ],
   "source": [
    "# Import our dependencies\n",
    "from sklearn.model_selection import train_test_split\n",
    "from sklearn.preprocessing import StandardScaler\n",
    "import matplotlib.pyplot as plt\n",
    "import pandas as pd\n",
    "import tensorflow as tf\n",
    "import keras_tuner as kt\n",
    "from keras import layers\n",
    "\n",
    "#  Import and read the charity_data.csv.\n",
    "import pandas as pd \n",
    "application_df = pd.read_csv(\"https://static.bc-edx.com/data/dl-1-2/m21/lms/starter/charity_data.csv\")\n",
    "application_df.head()"
   ]
  },
  {
   "cell_type": "code",
   "execution_count": 2,
   "metadata": {},
   "outputs": [],
   "source": [
    "# Drop the non-beneficial ID columns, 'EIN' and 'NAME'.\n",
    "application_df.drop(columns=['EIN', 'NAME'], axis=1, inplace=True)\n"
   ]
  },
  {
   "cell_type": "code",
   "execution_count": 3,
   "metadata": {},
   "outputs": [
    {
     "name": "stdout",
     "output_type": "stream",
     "text": [
      "APPLICATION_TYPE :  17\n",
      "AFFILIATION :  6\n",
      "CLASSIFICATION :  71\n",
      "USE_CASE :  5\n",
      "ORGANIZATION :  4\n",
      "STATUS :  2\n",
      "INCOME_AMT :  9\n",
      "SPECIAL_CONSIDERATIONS :  2\n",
      "ASK_AMT :  8747\n",
      "IS_SUCCESSFUL :  2\n"
     ]
    }
   ],
   "source": [
    "# Determine the number of unique values in each column.\n",
    "for col in application_df.columns:\n",
    "    print(col, ': ',len(application_df[col].unique()))"
   ]
  },
  {
   "cell_type": "code",
   "execution_count": 4,
   "metadata": {},
   "outputs": [
    {
     "data": {
      "text/plain": [
       "T3     27037\n",
       "T4      1542\n",
       "T6      1216\n",
       "T5      1173\n",
       "T19     1065\n",
       "T8       737\n",
       "T7       725\n",
       "T10      528\n",
       "T9       156\n",
       "T13       66\n",
       "T12       27\n",
       "T2        16\n",
       "T25        3\n",
       "T14        3\n",
       "T29        2\n",
       "T15        2\n",
       "T17        1\n",
       "Name: APPLICATION_TYPE, dtype: int64"
      ]
     },
     "execution_count": 4,
     "metadata": {},
     "output_type": "execute_result"
    }
   ],
   "source": [
    "# Look at APPLICATION_TYPE value counts for binning\n",
    "application_df['APPLICATION_TYPE'].value_counts()"
   ]
  },
  {
   "cell_type": "code",
   "execution_count": 5,
   "metadata": {},
   "outputs": [
    {
     "data": {
      "text/plain": [
       "T3       27037\n",
       "T4        1542\n",
       "T6        1216\n",
       "T5        1173\n",
       "T19       1065\n",
       "T8         737\n",
       "T7         725\n",
       "T10        528\n",
       "Other      276\n",
       "Name: APPLICATION_TYPE, dtype: int64"
      ]
     },
     "execution_count": 5,
     "metadata": {},
     "output_type": "execute_result"
    }
   ],
   "source": [
    "# Choose a cutoff value and create a list of application types to be replaced\n",
    "# use the variable name `application_types_to_replace`\n",
    "application_types_to_replace = ['T9','T13','T12','T2','T25','T14','T29','T15','T17']\n",
    "\n",
    "# Replace in dataframe\n",
    "for app in application_types_to_replace:\n",
    "    application_df['APPLICATION_TYPE'] = application_df['APPLICATION_TYPE'].replace(app,\"Other\")\n",
    "\n",
    "# Check to make sure binning was successful\n",
    "application_df['APPLICATION_TYPE'].value_counts()"
   ]
  },
  {
   "cell_type": "code",
   "execution_count": 6,
   "metadata": {},
   "outputs": [
    {
     "data": {
      "text/plain": [
       "C1000    17326\n",
       "C2000     6074\n",
       "C1200     4837\n",
       "C3000     1918\n",
       "C2100     1883\n",
       "         ...  \n",
       "C4120        1\n",
       "C8210        1\n",
       "C2561        1\n",
       "C4500        1\n",
       "C2150        1\n",
       "Name: CLASSIFICATION, Length: 71, dtype: int64"
      ]
     },
     "execution_count": 6,
     "metadata": {},
     "output_type": "execute_result"
    }
   ],
   "source": [
    "# Look at CLASSIFICATION value counts for binning\n",
    "application_df['CLASSIFICATION'].value_counts()"
   ]
  },
  {
   "cell_type": "code",
   "execution_count": 7,
   "metadata": {},
   "outputs": [
    {
     "data": {
      "text/plain": [
       "C1000    17326\n",
       "C2000     6074\n",
       "C1200     4837\n",
       "C3000     1918\n",
       "C2100     1883\n",
       "C7000      777\n",
       "C1700      287\n",
       "C4000      194\n",
       "C5000      116\n",
       "C1270      114\n",
       "C2700      104\n",
       "C2800       95\n",
       "C7100       75\n",
       "C1300       58\n",
       "C1280       50\n",
       "C1230       36\n",
       "C1400       34\n",
       "C7200       32\n",
       "C2300       32\n",
       "C1240       30\n",
       "C8000       20\n",
       "C7120       18\n",
       "C1500       16\n",
       "C1800       15\n",
       "C6000       15\n",
       "C1250       14\n",
       "C8200       11\n",
       "C1238       10\n",
       "C1278       10\n",
       "C1235        9\n",
       "C1237        9\n",
       "C7210        7\n",
       "C2400        6\n",
       "C1720        6\n",
       "C4100        6\n",
       "C1257        5\n",
       "C1600        5\n",
       "C1260        3\n",
       "C2710        3\n",
       "C0           3\n",
       "C3200        2\n",
       "C1234        2\n",
       "C1246        2\n",
       "C1267        2\n",
       "C1256        2\n",
       "Name: CLASSIFICATION, dtype: int64"
      ]
     },
     "execution_count": 7,
     "metadata": {},
     "output_type": "execute_result"
    }
   ],
   "source": [
    "# You may find it helpful to look at CLASSIFICATION value counts >1\n",
    "application_df['CLASSIFICATION'].value_counts()[application_df['CLASSIFICATION'].value_counts() > 1]"
   ]
  },
  {
   "cell_type": "code",
   "execution_count": 8,
   "metadata": {},
   "outputs": [
    {
     "data": {
      "text/plain": [
       "C1000    17326\n",
       "C2000     6074\n",
       "C1200     4837\n",
       "C3000     1918\n",
       "C2100     1883\n",
       "Other     1003\n",
       "C7000      777\n",
       "C1700      287\n",
       "C4000      194\n",
       "Name: CLASSIFICATION, dtype: int64"
      ]
     },
     "execution_count": 8,
     "metadata": {},
     "output_type": "execute_result"
    }
   ],
   "source": [
    "# Choose a cutoff value and create a list of classifications to be replaced\n",
    "# use the variable name `classifications_to_replace`\n",
    "classification_valuecounts = application_df['CLASSIFICATION'].value_counts()\n",
    "classifications_to_replace = classification_valuecounts[classification_valuecounts < 150].index\n",
    "\n",
    "# Replace in dataframe\n",
    "for cls in classifications_to_replace:\n",
    "    application_df['CLASSIFICATION'] = application_df['CLASSIFICATION'].replace(cls,\"Other\")\n",
    "    \n",
    "# Check to make sure binning was successful\n",
    "application_df['CLASSIFICATION'].value_counts()"
   ]
  },
  {
   "cell_type": "code",
   "execution_count": 9,
   "metadata": {},
   "outputs": [
    {
     "data": {
      "text/html": [
       "<div>\n",
       "<style scoped>\n",
       "    .dataframe tbody tr th:only-of-type {\n",
       "        vertical-align: middle;\n",
       "    }\n",
       "\n",
       "    .dataframe tbody tr th {\n",
       "        vertical-align: top;\n",
       "    }\n",
       "\n",
       "    .dataframe thead th {\n",
       "        text-align: right;\n",
       "    }\n",
       "</style>\n",
       "<table border=\"1\" class=\"dataframe\">\n",
       "  <thead>\n",
       "    <tr style=\"text-align: right;\">\n",
       "      <th></th>\n",
       "      <th>STATUS</th>\n",
       "      <th>ASK_AMT</th>\n",
       "      <th>IS_SUCCESSFUL</th>\n",
       "      <th>APPLICATION_TYPE_Other</th>\n",
       "      <th>APPLICATION_TYPE_T10</th>\n",
       "      <th>APPLICATION_TYPE_T19</th>\n",
       "      <th>APPLICATION_TYPE_T3</th>\n",
       "      <th>APPLICATION_TYPE_T4</th>\n",
       "      <th>APPLICATION_TYPE_T5</th>\n",
       "      <th>APPLICATION_TYPE_T6</th>\n",
       "      <th>...</th>\n",
       "      <th>INCOME_AMT_1-9999</th>\n",
       "      <th>INCOME_AMT_10000-24999</th>\n",
       "      <th>INCOME_AMT_100000-499999</th>\n",
       "      <th>INCOME_AMT_10M-50M</th>\n",
       "      <th>INCOME_AMT_1M-5M</th>\n",
       "      <th>INCOME_AMT_25000-99999</th>\n",
       "      <th>INCOME_AMT_50M+</th>\n",
       "      <th>INCOME_AMT_5M-10M</th>\n",
       "      <th>SPECIAL_CONSIDERATIONS_N</th>\n",
       "      <th>SPECIAL_CONSIDERATIONS_Y</th>\n",
       "    </tr>\n",
       "  </thead>\n",
       "  <tbody>\n",
       "    <tr>\n",
       "      <th>0</th>\n",
       "      <td>1</td>\n",
       "      <td>5000</td>\n",
       "      <td>1</td>\n",
       "      <td>0</td>\n",
       "      <td>1</td>\n",
       "      <td>0</td>\n",
       "      <td>0</td>\n",
       "      <td>0</td>\n",
       "      <td>0</td>\n",
       "      <td>0</td>\n",
       "      <td>...</td>\n",
       "      <td>0</td>\n",
       "      <td>0</td>\n",
       "      <td>0</td>\n",
       "      <td>0</td>\n",
       "      <td>0</td>\n",
       "      <td>0</td>\n",
       "      <td>0</td>\n",
       "      <td>0</td>\n",
       "      <td>1</td>\n",
       "      <td>0</td>\n",
       "    </tr>\n",
       "    <tr>\n",
       "      <th>1</th>\n",
       "      <td>1</td>\n",
       "      <td>108590</td>\n",
       "      <td>1</td>\n",
       "      <td>0</td>\n",
       "      <td>0</td>\n",
       "      <td>0</td>\n",
       "      <td>1</td>\n",
       "      <td>0</td>\n",
       "      <td>0</td>\n",
       "      <td>0</td>\n",
       "      <td>...</td>\n",
       "      <td>1</td>\n",
       "      <td>0</td>\n",
       "      <td>0</td>\n",
       "      <td>0</td>\n",
       "      <td>0</td>\n",
       "      <td>0</td>\n",
       "      <td>0</td>\n",
       "      <td>0</td>\n",
       "      <td>1</td>\n",
       "      <td>0</td>\n",
       "    </tr>\n",
       "    <tr>\n",
       "      <th>2</th>\n",
       "      <td>1</td>\n",
       "      <td>5000</td>\n",
       "      <td>0</td>\n",
       "      <td>0</td>\n",
       "      <td>0</td>\n",
       "      <td>0</td>\n",
       "      <td>0</td>\n",
       "      <td>0</td>\n",
       "      <td>1</td>\n",
       "      <td>0</td>\n",
       "      <td>...</td>\n",
       "      <td>0</td>\n",
       "      <td>0</td>\n",
       "      <td>0</td>\n",
       "      <td>0</td>\n",
       "      <td>0</td>\n",
       "      <td>0</td>\n",
       "      <td>0</td>\n",
       "      <td>0</td>\n",
       "      <td>1</td>\n",
       "      <td>0</td>\n",
       "    </tr>\n",
       "    <tr>\n",
       "      <th>3</th>\n",
       "      <td>1</td>\n",
       "      <td>6692</td>\n",
       "      <td>1</td>\n",
       "      <td>0</td>\n",
       "      <td>0</td>\n",
       "      <td>0</td>\n",
       "      <td>1</td>\n",
       "      <td>0</td>\n",
       "      <td>0</td>\n",
       "      <td>0</td>\n",
       "      <td>...</td>\n",
       "      <td>0</td>\n",
       "      <td>1</td>\n",
       "      <td>0</td>\n",
       "      <td>0</td>\n",
       "      <td>0</td>\n",
       "      <td>0</td>\n",
       "      <td>0</td>\n",
       "      <td>0</td>\n",
       "      <td>1</td>\n",
       "      <td>0</td>\n",
       "    </tr>\n",
       "    <tr>\n",
       "      <th>4</th>\n",
       "      <td>1</td>\n",
       "      <td>142590</td>\n",
       "      <td>1</td>\n",
       "      <td>0</td>\n",
       "      <td>0</td>\n",
       "      <td>0</td>\n",
       "      <td>1</td>\n",
       "      <td>0</td>\n",
       "      <td>0</td>\n",
       "      <td>0</td>\n",
       "      <td>...</td>\n",
       "      <td>0</td>\n",
       "      <td>0</td>\n",
       "      <td>1</td>\n",
       "      <td>0</td>\n",
       "      <td>0</td>\n",
       "      <td>0</td>\n",
       "      <td>0</td>\n",
       "      <td>0</td>\n",
       "      <td>1</td>\n",
       "      <td>0</td>\n",
       "    </tr>\n",
       "  </tbody>\n",
       "</table>\n",
       "<p>5 rows × 47 columns</p>\n",
       "</div>"
      ],
      "text/plain": [
       "   STATUS  ASK_AMT  IS_SUCCESSFUL  APPLICATION_TYPE_Other  \\\n",
       "0       1     5000              1                       0   \n",
       "1       1   108590              1                       0   \n",
       "2       1     5000              0                       0   \n",
       "3       1     6692              1                       0   \n",
       "4       1   142590              1                       0   \n",
       "\n",
       "   APPLICATION_TYPE_T10  APPLICATION_TYPE_T19  APPLICATION_TYPE_T3  \\\n",
       "0                     1                     0                    0   \n",
       "1                     0                     0                    1   \n",
       "2                     0                     0                    0   \n",
       "3                     0                     0                    1   \n",
       "4                     0                     0                    1   \n",
       "\n",
       "   APPLICATION_TYPE_T4  APPLICATION_TYPE_T5  APPLICATION_TYPE_T6  ...  \\\n",
       "0                    0                    0                    0  ...   \n",
       "1                    0                    0                    0  ...   \n",
       "2                    0                    1                    0  ...   \n",
       "3                    0                    0                    0  ...   \n",
       "4                    0                    0                    0  ...   \n",
       "\n",
       "   INCOME_AMT_1-9999  INCOME_AMT_10000-24999  INCOME_AMT_100000-499999  \\\n",
       "0                  0                       0                         0   \n",
       "1                  1                       0                         0   \n",
       "2                  0                       0                         0   \n",
       "3                  0                       1                         0   \n",
       "4                  0                       0                         1   \n",
       "\n",
       "   INCOME_AMT_10M-50M  INCOME_AMT_1M-5M  INCOME_AMT_25000-99999  \\\n",
       "0                   0                 0                       0   \n",
       "1                   0                 0                       0   \n",
       "2                   0                 0                       0   \n",
       "3                   0                 0                       0   \n",
       "4                   0                 0                       0   \n",
       "\n",
       "   INCOME_AMT_50M+  INCOME_AMT_5M-10M  SPECIAL_CONSIDERATIONS_N  \\\n",
       "0                0                  0                         1   \n",
       "1                0                  0                         1   \n",
       "2                0                  0                         1   \n",
       "3                0                  0                         1   \n",
       "4                0                  0                         1   \n",
       "\n",
       "   SPECIAL_CONSIDERATIONS_Y  \n",
       "0                         0  \n",
       "1                         0  \n",
       "2                         0  \n",
       "3                         0  \n",
       "4                         0  \n",
       "\n",
       "[5 rows x 47 columns]"
      ]
     },
     "execution_count": 9,
     "metadata": {},
     "output_type": "execute_result"
    }
   ],
   "source": [
    "# Convert categorical data to numeric with `pd.get_dummies`\n",
    "application_df = pd.get_dummies(application_df)\n",
    "application_df.head()"
   ]
  },
  {
   "cell_type": "code",
   "execution_count": 10,
   "metadata": {},
   "outputs": [],
   "source": [
    "# Split our preprocessed data into our features and target arrays\n",
    "X = application_df.drop('IS_SUCCESSFUL', axis=1).values\n",
    "y = application_df['IS_SUCCESSFUL'].values\n",
    "# Split the preprocessed data into a training and testing dataset\n",
    "X_train, X_test, y_train, y_test = train_test_split(X,y, test_size=0.3, random_state=42)"
   ]
  },
  {
   "cell_type": "code",
   "execution_count": 11,
   "metadata": {},
   "outputs": [],
   "source": [
    "# Create a StandardScaler instances\n",
    "scaler = StandardScaler()\n",
    "\n",
    "# Fit the StandardScaler\n",
    "X_scaler = scaler.fit(X_train)\n",
    "\n",
    "# Scale the data\n",
    "X_train_scaled = X_scaler.transform(X_train)\n",
    "X_test_scaled = X_scaler.transform(X_test)"
   ]
  },
  {
   "cell_type": "markdown",
   "metadata": {},
   "source": [
    "## Plot loss with number of epoch function"
   ]
  },
  {
   "cell_type": "code",
   "execution_count": 12,
   "metadata": {},
   "outputs": [],
   "source": [
    "def plot_metric(history, metric='loss'):\n",
    "    \"\"\" Plot training and test values for a metric. \"\"\"\n",
    "\n",
    "    val_metric = 'val_'+metric\n",
    "    plt.plot(history.history[metric])\n",
    "    plt.plot(history.history[val_metric])\n",
    "    plt.title('model '+metric)\n",
    "    plt.ylabel(metric)\n",
    "    plt.xlabel('epoch')\n",
    "    plt.legend(['train', 'test'])\n",
    "    plt.show();"
   ]
  },
  {
   "cell_type": "markdown",
   "metadata": {},
   "source": [
    "## Compile, Train and Evaluate the Model"
   ]
  },
  {
   "cell_type": "code",
   "execution_count": 13,
   "metadata": {},
   "outputs": [
    {
     "name": "stdout",
     "output_type": "stream",
     "text": [
      "Model: \"sequential\"\n",
      "_________________________________________________________________\n",
      " Layer (type)                Output Shape              Param #   \n",
      "=================================================================\n",
      " dense (Dense)               (None, 100)               4700      \n",
      "                                                                 \n",
      " dense_1 (Dense)             (None, 100)               10100     \n",
      "                                                                 \n",
      " dense_2 (Dense)             (None, 1)                 101       \n",
      "                                                                 \n",
      "=================================================================\n",
      "Total params: 14,901\n",
      "Trainable params: 14,901\n",
      "Non-trainable params: 0\n",
      "_________________________________________________________________\n"
     ]
    },
    {
     "name": "stderr",
     "output_type": "stream",
     "text": [
      "2023-07-31 20:22:37.686731: I tensorflow/core/platform/cpu_feature_guard.cc:193] This TensorFlow binary is optimized with oneAPI Deep Neural Network Library (oneDNN) to use the following CPU instructions in performance-critical operations:  AVX2 FMA\n",
      "To enable them in other operations, rebuild TensorFlow with the appropriate compiler flags.\n"
     ]
    }
   ],
   "source": [
    "# Define the model - deep neural net, i.e., the number of input features and hidden nodes for each layer.\n",
    "input_features = X_train_scaled.shape[1]\n",
    "hidden_layer1 = 100\n",
    "hidden_layer2 = 50\n",
    "\n",
    "model = tf.keras.models.Sequential()\n",
    "\n",
    "# Add our first Dense layer, including the input layer\n",
    "model.add(layers.Dense(units=hidden_layer1, activation=\"relu\", input_dim=46))\n",
    "\n",
    "# Add 2nd layer\n",
    "model.add(layers.Dense(units=hidden_layer1, activation=\"relu\"))\n",
    "\n",
    "\n",
    "# Add the output layer that uses a probability activation function\n",
    "model.add(layers.Dense(units=1, activation=\"sigmoid\"))\n",
    "\n",
    "# Check the structure of the Sequential model\n",
    "model.summary()"
   ]
  },
  {
   "cell_type": "code",
   "execution_count": 14,
   "metadata": {},
   "outputs": [
    {
     "name": "stdout",
     "output_type": "stream",
     "text": [
      "Epoch 1/100\n",
      "601/601 [==============================] - 2s 2ms/step - loss: 0.5747 - accuracy: 0.7174 - val_loss: 0.5499 - val_accuracy: 0.7362\n",
      "Epoch 2/100\n",
      "601/601 [==============================] - 1s 1ms/step - loss: 0.5586 - accuracy: 0.7265 - val_loss: 0.5483 - val_accuracy: 0.7378\n",
      "Epoch 3/100\n",
      "601/601 [==============================] - 1s 1ms/step - loss: 0.5568 - accuracy: 0.7266 - val_loss: 0.5481 - val_accuracy: 0.7316\n",
      "Epoch 4/100\n",
      "601/601 [==============================] - 1s 1ms/step - loss: 0.5531 - accuracy: 0.7269 - val_loss: 0.5434 - val_accuracy: 0.7378\n",
      "Epoch 5/100\n",
      "601/601 [==============================] - 1s 1ms/step - loss: 0.5509 - accuracy: 0.7296 - val_loss: 0.5464 - val_accuracy: 0.7372\n",
      "Epoch 6/100\n",
      "601/601 [==============================] - 1s 2ms/step - loss: 0.5500 - accuracy: 0.7293 - val_loss: 0.5474 - val_accuracy: 0.7374\n",
      "Epoch 7/100\n",
      "601/601 [==============================] - 1s 1ms/step - loss: 0.5493 - accuracy: 0.7295 - val_loss: 0.5467 - val_accuracy: 0.7362\n",
      "Epoch 8/100\n",
      "601/601 [==============================] - 1s 1ms/step - loss: 0.5472 - accuracy: 0.7323 - val_loss: 0.5456 - val_accuracy: 0.7380\n",
      "Epoch 9/100\n",
      "601/601 [==============================] - 1s 1ms/step - loss: 0.5470 - accuracy: 0.7295 - val_loss: 0.5426 - val_accuracy: 0.7387\n",
      "Epoch 10/100\n",
      "601/601 [==============================] - 1s 1ms/step - loss: 0.5461 - accuracy: 0.7314 - val_loss: 0.5433 - val_accuracy: 0.7384\n",
      "Epoch 11/100\n",
      "601/601 [==============================] - 1s 1ms/step - loss: 0.5459 - accuracy: 0.7318 - val_loss: 0.5457 - val_accuracy: 0.7382\n",
      "Epoch 12/100\n",
      "601/601 [==============================] - 1s 1ms/step - loss: 0.5451 - accuracy: 0.7332 - val_loss: 0.5428 - val_accuracy: 0.7364\n",
      "Epoch 13/100\n",
      "601/601 [==============================] - 1s 2ms/step - loss: 0.5439 - accuracy: 0.7340 - val_loss: 0.5481 - val_accuracy: 0.7330\n",
      "Epoch 14/100\n",
      "601/601 [==============================] - 1s 2ms/step - loss: 0.5441 - accuracy: 0.7331 - val_loss: 0.5434 - val_accuracy: 0.7391\n",
      "Epoch 15/100\n",
      "601/601 [==============================] - 1s 2ms/step - loss: 0.5433 - accuracy: 0.7363 - val_loss: 0.5469 - val_accuracy: 0.7353\n",
      "Epoch 16/100\n",
      "601/601 [==============================] - 1s 2ms/step - loss: 0.5432 - accuracy: 0.7328 - val_loss: 0.5468 - val_accuracy: 0.7372\n",
      "Epoch 17/100\n",
      "601/601 [==============================] - 1s 2ms/step - loss: 0.5426 - accuracy: 0.7349 - val_loss: 0.5451 - val_accuracy: 0.7347\n",
      "Epoch 18/100\n",
      "601/601 [==============================] - 1s 2ms/step - loss: 0.5424 - accuracy: 0.7346 - val_loss: 0.5433 - val_accuracy: 0.7372\n",
      "Epoch 19/100\n",
      "601/601 [==============================] - 1s 2ms/step - loss: 0.5425 - accuracy: 0.7334 - val_loss: 0.5451 - val_accuracy: 0.7364\n",
      "Epoch 20/100\n",
      "601/601 [==============================] - 1s 2ms/step - loss: 0.5409 - accuracy: 0.7354 - val_loss: 0.5424 - val_accuracy: 0.7378\n",
      "Epoch 21/100\n",
      "601/601 [==============================] - 1s 2ms/step - loss: 0.5408 - accuracy: 0.7346 - val_loss: 0.5430 - val_accuracy: 0.7374\n",
      "Epoch 22/100\n",
      "601/601 [==============================] - 1s 2ms/step - loss: 0.5403 - accuracy: 0.7349 - val_loss: 0.5426 - val_accuracy: 0.7370\n",
      "Epoch 23/100\n",
      "601/601 [==============================] - 1s 2ms/step - loss: 0.5400 - accuracy: 0.7365 - val_loss: 0.5463 - val_accuracy: 0.7370\n",
      "Epoch 24/100\n",
      "601/601 [==============================] - 1s 1ms/step - loss: 0.5400 - accuracy: 0.7361 - val_loss: 0.5418 - val_accuracy: 0.7389\n",
      "Epoch 25/100\n",
      "601/601 [==============================] - 1s 1ms/step - loss: 0.5394 - accuracy: 0.7361 - val_loss: 0.5467 - val_accuracy: 0.7370\n",
      "Epoch 26/100\n",
      "601/601 [==============================] - 1s 1ms/step - loss: 0.5399 - accuracy: 0.7364 - val_loss: 0.5430 - val_accuracy: 0.7380\n",
      "Epoch 27/100\n",
      "601/601 [==============================] - 1s 1ms/step - loss: 0.5391 - accuracy: 0.7365 - val_loss: 0.5440 - val_accuracy: 0.7366\n",
      "Epoch 28/100\n",
      "601/601 [==============================] - 1s 1ms/step - loss: 0.5390 - accuracy: 0.7368 - val_loss: 0.5417 - val_accuracy: 0.7380\n",
      "Epoch 29/100\n",
      "601/601 [==============================] - 1s 2ms/step - loss: 0.5387 - accuracy: 0.7370 - val_loss: 0.5467 - val_accuracy: 0.7359\n",
      "Epoch 30/100\n",
      "601/601 [==============================] - 1s 1ms/step - loss: 0.5385 - accuracy: 0.7372 - val_loss: 0.5450 - val_accuracy: 0.7378\n",
      "Epoch 31/100\n",
      "601/601 [==============================] - 1s 2ms/step - loss: 0.5387 - accuracy: 0.7379 - val_loss: 0.5426 - val_accuracy: 0.7389\n",
      "Epoch 32/100\n",
      "601/601 [==============================] - 1s 1ms/step - loss: 0.5378 - accuracy: 0.7379 - val_loss: 0.5425 - val_accuracy: 0.7401\n",
      "Epoch 33/100\n",
      "601/601 [==============================] - 1s 1ms/step - loss: 0.5376 - accuracy: 0.7388 - val_loss: 0.5479 - val_accuracy: 0.7384\n",
      "Epoch 34/100\n",
      "601/601 [==============================] - 1s 1ms/step - loss: 0.5381 - accuracy: 0.7382 - val_loss: 0.5434 - val_accuracy: 0.7376\n",
      "Epoch 35/100\n",
      "601/601 [==============================] - 1s 1ms/step - loss: 0.5370 - accuracy: 0.7392 - val_loss: 0.5437 - val_accuracy: 0.7391\n",
      "Epoch 36/100\n",
      "601/601 [==============================] - 1s 1ms/step - loss: 0.5373 - accuracy: 0.7383 - val_loss: 0.5436 - val_accuracy: 0.7393\n",
      "Epoch 37/100\n",
      "601/601 [==============================] - 1s 2ms/step - loss: 0.5366 - accuracy: 0.7384 - val_loss: 0.5453 - val_accuracy: 0.7359\n",
      "Epoch 38/100\n",
      "601/601 [==============================] - 1s 2ms/step - loss: 0.5367 - accuracy: 0.7386 - val_loss: 0.5464 - val_accuracy: 0.7378\n",
      "Epoch 39/100\n",
      "601/601 [==============================] - 1s 2ms/step - loss: 0.5368 - accuracy: 0.7382 - val_loss: 0.5449 - val_accuracy: 0.7405\n",
      "Epoch 40/100\n",
      "601/601 [==============================] - 1s 2ms/step - loss: 0.5365 - accuracy: 0.7386 - val_loss: 0.5450 - val_accuracy: 0.7391\n",
      "Epoch 41/100\n",
      "601/601 [==============================] - 1s 2ms/step - loss: 0.5365 - accuracy: 0.7380 - val_loss: 0.5462 - val_accuracy: 0.7378\n",
      "Epoch 42/100\n",
      "601/601 [==============================] - 1s 1ms/step - loss: 0.5359 - accuracy: 0.7379 - val_loss: 0.5452 - val_accuracy: 0.7403\n",
      "Epoch 43/100\n",
      "601/601 [==============================] - 1s 2ms/step - loss: 0.5357 - accuracy: 0.7389 - val_loss: 0.5468 - val_accuracy: 0.7393\n",
      "Epoch 44/100\n",
      "601/601 [==============================] - 1s 2ms/step - loss: 0.5357 - accuracy: 0.7378 - val_loss: 0.5458 - val_accuracy: 0.7376\n",
      "Epoch 45/100\n",
      "601/601 [==============================] - 1s 2ms/step - loss: 0.5361 - accuracy: 0.7388 - val_loss: 0.5455 - val_accuracy: 0.7368\n",
      "Epoch 46/100\n",
      "601/601 [==============================] - 1s 1ms/step - loss: 0.5351 - accuracy: 0.7396 - val_loss: 0.5460 - val_accuracy: 0.7366\n",
      "Epoch 47/100\n",
      "601/601 [==============================] - 1s 1ms/step - loss: 0.5354 - accuracy: 0.7394 - val_loss: 0.5485 - val_accuracy: 0.7378\n",
      "Epoch 48/100\n",
      "601/601 [==============================] - 1s 1ms/step - loss: 0.5354 - accuracy: 0.7398 - val_loss: 0.5469 - val_accuracy: 0.7391\n",
      "Epoch 49/100\n",
      "601/601 [==============================] - 1s 1ms/step - loss: 0.5347 - accuracy: 0.7400 - val_loss: 0.5470 - val_accuracy: 0.7384\n",
      "Epoch 50/100\n",
      "601/601 [==============================] - 1s 1ms/step - loss: 0.5354 - accuracy: 0.7392 - val_loss: 0.5447 - val_accuracy: 0.7389\n",
      "Epoch 51/100\n",
      "601/601 [==============================] - 1s 1ms/step - loss: 0.5352 - accuracy: 0.7392 - val_loss: 0.5458 - val_accuracy: 0.7414\n",
      "Epoch 52/100\n",
      "601/601 [==============================] - 1s 1ms/step - loss: 0.5344 - accuracy: 0.7384 - val_loss: 0.5484 - val_accuracy: 0.7389\n",
      "Epoch 53/100\n",
      "601/601 [==============================] - 1s 1ms/step - loss: 0.5348 - accuracy: 0.7392 - val_loss: 0.5455 - val_accuracy: 0.7391\n",
      "Epoch 54/100\n",
      "601/601 [==============================] - 1s 1ms/step - loss: 0.5345 - accuracy: 0.7391 - val_loss: 0.5437 - val_accuracy: 0.7382\n",
      "Epoch 55/100\n",
      "601/601 [==============================] - 1s 1ms/step - loss: 0.5348 - accuracy: 0.7389 - val_loss: 0.5443 - val_accuracy: 0.7378\n",
      "Epoch 56/100\n",
      "601/601 [==============================] - 1s 1ms/step - loss: 0.5340 - accuracy: 0.7403 - val_loss: 0.5480 - val_accuracy: 0.7370\n",
      "Epoch 57/100\n",
      "601/601 [==============================] - 1s 1ms/step - loss: 0.5338 - accuracy: 0.7398 - val_loss: 0.5469 - val_accuracy: 0.7376\n"
     ]
    },
    {
     "name": "stdout",
     "output_type": "stream",
     "text": [
      "Epoch 58/100\n",
      "601/601 [==============================] - 1s 1ms/step - loss: 0.5342 - accuracy: 0.7403 - val_loss: 0.5453 - val_accuracy: 0.7403\n",
      "Epoch 59/100\n",
      "601/601 [==============================] - 1s 1ms/step - loss: 0.5335 - accuracy: 0.7401 - val_loss: 0.5466 - val_accuracy: 0.7378\n",
      "Epoch 60/100\n",
      "601/601 [==============================] - 1s 1ms/step - loss: 0.5337 - accuracy: 0.7396 - val_loss: 0.5467 - val_accuracy: 0.7376\n",
      "Epoch 61/100\n",
      "601/601 [==============================] - 1s 1ms/step - loss: 0.5335 - accuracy: 0.7401 - val_loss: 0.5512 - val_accuracy: 0.7372\n",
      "Epoch 62/100\n",
      "601/601 [==============================] - 1s 2ms/step - loss: 0.5343 - accuracy: 0.7403 - val_loss: 0.5472 - val_accuracy: 0.7384\n",
      "Epoch 63/100\n",
      "601/601 [==============================] - 1s 1ms/step - loss: 0.5337 - accuracy: 0.7395 - val_loss: 0.5479 - val_accuracy: 0.7382\n",
      "Epoch 64/100\n",
      "601/601 [==============================] - 1s 1ms/step - loss: 0.5339 - accuracy: 0.7397 - val_loss: 0.5449 - val_accuracy: 0.7378\n",
      "Epoch 65/100\n",
      "601/601 [==============================] - 1s 1ms/step - loss: 0.5337 - accuracy: 0.7403 - val_loss: 0.5448 - val_accuracy: 0.7401\n",
      "Epoch 66/100\n",
      "601/601 [==============================] - 1s 1ms/step - loss: 0.5335 - accuracy: 0.7405 - val_loss: 0.5478 - val_accuracy: 0.7399\n",
      "Epoch 67/100\n",
      "601/601 [==============================] - 1s 1ms/step - loss: 0.5330 - accuracy: 0.7403 - val_loss: 0.5483 - val_accuracy: 0.7407\n",
      "Epoch 68/100\n",
      "601/601 [==============================] - 1s 2ms/step - loss: 0.5332 - accuracy: 0.7405 - val_loss: 0.5499 - val_accuracy: 0.7378\n",
      "Epoch 69/100\n",
      "601/601 [==============================] - 1s 1ms/step - loss: 0.5332 - accuracy: 0.7403 - val_loss: 0.5480 - val_accuracy: 0.7393\n",
      "Epoch 70/100\n",
      "601/601 [==============================] - 1s 2ms/step - loss: 0.5328 - accuracy: 0.7404 - val_loss: 0.5506 - val_accuracy: 0.7389\n",
      "Epoch 71/100\n",
      "601/601 [==============================] - 1s 2ms/step - loss: 0.5328 - accuracy: 0.7403 - val_loss: 0.5495 - val_accuracy: 0.7376\n",
      "Epoch 72/100\n",
      "601/601 [==============================] - 1s 2ms/step - loss: 0.5328 - accuracy: 0.7404 - val_loss: 0.5482 - val_accuracy: 0.7397\n",
      "Epoch 73/100\n",
      "601/601 [==============================] - 1s 2ms/step - loss: 0.5324 - accuracy: 0.7401 - val_loss: 0.5486 - val_accuracy: 0.7395\n",
      "Epoch 74/100\n",
      "601/601 [==============================] - 1s 2ms/step - loss: 0.5326 - accuracy: 0.7396 - val_loss: 0.5477 - val_accuracy: 0.7393\n",
      "Epoch 75/100\n",
      "601/601 [==============================] - 1s 2ms/step - loss: 0.5320 - accuracy: 0.7394 - val_loss: 0.5475 - val_accuracy: 0.7382\n",
      "Epoch 76/100\n",
      "601/601 [==============================] - 1s 2ms/step - loss: 0.5328 - accuracy: 0.7408 - val_loss: 0.5499 - val_accuracy: 0.7380\n",
      "Epoch 77/100\n",
      "601/601 [==============================] - 1s 2ms/step - loss: 0.5324 - accuracy: 0.7402 - val_loss: 0.5508 - val_accuracy: 0.7380\n",
      "Epoch 78/100\n",
      "601/601 [==============================] - 1s 2ms/step - loss: 0.5321 - accuracy: 0.7401 - val_loss: 0.5499 - val_accuracy: 0.7397\n",
      "Epoch 79/100\n",
      "601/601 [==============================] - 1s 2ms/step - loss: 0.5325 - accuracy: 0.7398 - val_loss: 0.5485 - val_accuracy: 0.7389\n",
      "Epoch 80/100\n",
      "601/601 [==============================] - 1s 2ms/step - loss: 0.5316 - accuracy: 0.7406 - val_loss: 0.5506 - val_accuracy: 0.7403\n",
      "Epoch 81/100\n",
      "601/601 [==============================] - 1s 2ms/step - loss: 0.5320 - accuracy: 0.7402 - val_loss: 0.5484 - val_accuracy: 0.7401\n",
      "Epoch 82/100\n",
      "601/601 [==============================] - 1s 2ms/step - loss: 0.5314 - accuracy: 0.7400 - val_loss: 0.5491 - val_accuracy: 0.7399\n",
      "Epoch 83/100\n",
      "601/601 [==============================] - 1s 2ms/step - loss: 0.5320 - accuracy: 0.7402 - val_loss: 0.5512 - val_accuracy: 0.7380\n",
      "Epoch 84/100\n",
      "601/601 [==============================] - 1s 1ms/step - loss: 0.5315 - accuracy: 0.7401 - val_loss: 0.5536 - val_accuracy: 0.7384\n",
      "Epoch 85/100\n",
      "601/601 [==============================] - 1s 2ms/step - loss: 0.5325 - accuracy: 0.7395 - val_loss: 0.5527 - val_accuracy: 0.7401\n",
      "Epoch 86/100\n",
      "601/601 [==============================] - 1s 1ms/step - loss: 0.5316 - accuracy: 0.7407 - val_loss: 0.5509 - val_accuracy: 0.7387\n",
      "Epoch 87/100\n",
      "601/601 [==============================] - 1s 1ms/step - loss: 0.5315 - accuracy: 0.7404 - val_loss: 0.5520 - val_accuracy: 0.7382\n",
      "Epoch 88/100\n",
      "601/601 [==============================] - 1s 2ms/step - loss: 0.5317 - accuracy: 0.7397 - val_loss: 0.5526 - val_accuracy: 0.7380\n",
      "Epoch 89/100\n",
      "601/601 [==============================] - 1s 2ms/step - loss: 0.5314 - accuracy: 0.7399 - val_loss: 0.5511 - val_accuracy: 0.7382\n",
      "Epoch 90/100\n",
      "601/601 [==============================] - 1s 2ms/step - loss: 0.5319 - accuracy: 0.7406 - val_loss: 0.5493 - val_accuracy: 0.7395\n",
      "Epoch 91/100\n",
      "601/601 [==============================] - 1s 2ms/step - loss: 0.5313 - accuracy: 0.7408 - val_loss: 0.5513 - val_accuracy: 0.7391\n",
      "Epoch 92/100\n",
      "601/601 [==============================] - 1s 2ms/step - loss: 0.5315 - accuracy: 0.7406 - val_loss: 0.5497 - val_accuracy: 0.7378\n",
      "Epoch 93/100\n",
      "601/601 [==============================] - 1s 2ms/step - loss: 0.5312 - accuracy: 0.7406 - val_loss: 0.5515 - val_accuracy: 0.7389\n",
      "Epoch 94/100\n",
      "601/601 [==============================] - 1s 2ms/step - loss: 0.5310 - accuracy: 0.7412 - val_loss: 0.5524 - val_accuracy: 0.7387\n",
      "Epoch 95/100\n",
      "601/601 [==============================] - 1s 2ms/step - loss: 0.5309 - accuracy: 0.7403 - val_loss: 0.5522 - val_accuracy: 0.7401\n",
      "Epoch 96/100\n",
      "601/601 [==============================] - 1s 2ms/step - loss: 0.5311 - accuracy: 0.7410 - val_loss: 0.5540 - val_accuracy: 0.7387\n",
      "Epoch 97/100\n",
      "601/601 [==============================] - 1s 2ms/step - loss: 0.5316 - accuracy: 0.7403 - val_loss: 0.5536 - val_accuracy: 0.7384\n",
      "Epoch 98/100\n",
      "601/601 [==============================] - 1s 2ms/step - loss: 0.5308 - accuracy: 0.7396 - val_loss: 0.5529 - val_accuracy: 0.7382\n",
      "Epoch 99/100\n",
      "601/601 [==============================] - 1s 2ms/step - loss: 0.5312 - accuracy: 0.7407 - val_loss: 0.5530 - val_accuracy: 0.7389\n",
      "Epoch 100/100\n",
      "601/601 [==============================] - 1s 2ms/step - loss: 0.5310 - accuracy: 0.7412 - val_loss: 0.5509 - val_accuracy: 0.7393\n"
     ]
    }
   ],
   "source": [
    "# Compile the Sequential model together and customize metrics\n",
    "model.compile(loss=\"binary_crossentropy\", optimizer=\"adam\", metrics=[\"accuracy\"])  \n",
    "\n",
    "# Fit the model to the training data\n",
    "history1 = model.fit(X_train_scaled, y_train, validation_split=0.2, epochs=100)"
   ]
  },
  {
   "cell_type": "code",
   "execution_count": 15,
   "metadata": {},
   "outputs": [
    {
     "data": {
      "image/png": "[encoded data removed]",
      "text/plain": [
       "<Figure size 432x288 with 1 Axes>"
      ]
     },
     "metadata": {
      "needs_background": "light"
     },
     "output_type": "display_data"
    }
   ],
   "source": [
    "plot_metric(history1)"
   ]
  },
  {
   "cell_type": "markdown",
   "metadata": {},
   "source": [
    "As we can see our models test accuracy begins to diverge around 40 epochs. This tells us that our model is overfitting. Let us now build a different architecture that employs early stopping to avoid overfitting so severely. This in theory may give us better results. Let us do so now."
   ]
  },
  {
   "cell_type": "code",
   "execution_count": 16,
   "metadata": {},
   "outputs": [
    {
     "name": "stdout",
     "output_type": "stream",
     "text": [
      "Model: \"sequential_1\"\n",
      "_________________________________________________________________\n",
      " Layer (type)                Output Shape              Param #   \n",
      "=================================================================\n",
      " dense_3 (Dense)             (24009, 100)              4700      \n",
      "                                                                 \n",
      " dropout (Dropout)           (24009, 100)              0         \n",
      "                                                                 \n",
      " dense_4 (Dense)             (24009, 50)               5050      \n",
      "                                                                 \n",
      " dense_5 (Dense)             (24009, 25)               1275      \n",
      "                                                                 \n",
      " dense_6 (Dense)             (24009, 1)                26        \n",
      "                                                                 \n",
      "=================================================================\n",
      "Total params: 11,051\n",
      "Trainable params: 11,051\n",
      "Non-trainable params: 0\n",
      "_________________________________________________________________\n"
     ]
    }
   ],
   "source": [
    "# Define the model - deep neural net, i.e., the number of input features and hidden nodes for each layer.\n",
    "input_features = X_train_scaled.shape[1]\n",
    "hidden_layer1 = 100\n",
    "hidden_layer2 = 50\n",
    "hidden_layer3 = 25\n",
    "# hidden_layer4 = 10\n",
    "\n",
    "\n",
    "nn = tf.keras.Sequential(\n",
    "    [\n",
    "        # First hidden layer\n",
    "        layers.Dense(hidden_layer1, activation=\"relu\"),\n",
    "        # Dropout Regularization\n",
    "        layers.Dropout(.2),\n",
    "        # Second hidden layer\n",
    "        layers.Dense(hidden_layer2, activation=\"relu\"),\n",
    "        # Third hidden layer\n",
    "        layers.Dense(hidden_layer3, activation='relu'),\n",
    "        # Dropout Regularization\n",
    "#         layers.Dropout(.2, input_shape=(2,)),\n",
    "        # Third hidden layer\n",
    "#         layers.Dense(hidden_layer4, activation='relu'),\n",
    "        # Dropout Regularization\n",
    "#         layers.Dropout(.2, input_shape=(2,)),\n",
    "        # Output layer\n",
    "        layers.Dense(1, activation='sigmoid'),\n",
    "    ]\n",
    ")\n",
    "# call model on training data\n",
    "nn(X_train_scaled)\n",
    "# Check the structure of the model\n",
    "nn.summary()"
   ]
  },
  {
   "cell_type": "code",
   "execution_count": 17,
   "metadata": {},
   "outputs": [],
   "source": [
    "# Compile the model\n",
    "nn.compile(optimizer=tf.keras.optimizers.Adam(learning_rate=1e-3),\n",
    "              loss=tf.keras.losses.BinaryCrossentropy(), metrics=['acc'])\n"
   ]
  },
  {
   "cell_type": "code",
   "execution_count": 18,
   "metadata": {},
   "outputs": [],
   "source": [
    "# Stop training when overfitting occurs\n",
    "callback = tf.keras.callbacks.EarlyStopping(monitor='loss', patience=8)"
   ]
  },
  {
   "cell_type": "code",
   "execution_count": 19,
   "metadata": {
    "scrolled": false
   },
   "outputs": [
    {
     "name": "stdout",
     "output_type": "stream",
     "text": [
      "Epoch 1/100\n",
      "2401/2401 [==============================] - 5s 2ms/step - loss: 0.5787 - acc: 0.7128 - val_loss: 0.5560 - val_acc: 0.7374\n",
      "Epoch 2/100\n",
      "2401/2401 [==============================] - 4s 2ms/step - loss: 0.5615 - acc: 0.7244 - val_loss: 0.5492 - val_acc: 0.7362\n",
      "Epoch 3/100\n",
      "2401/2401 [==============================] - 4s 2ms/step - loss: 0.5586 - acc: 0.7258 - val_loss: 0.5495 - val_acc: 0.7357\n",
      "Epoch 4/100\n",
      "2401/2401 [==============================] - 4s 2ms/step - loss: 0.5560 - acc: 0.7269 - val_loss: 0.5459 - val_acc: 0.7347\n",
      "Epoch 5/100\n",
      "2401/2401 [==============================] - 4s 1ms/step - loss: 0.5556 - acc: 0.7275 - val_loss: 0.5455 - val_acc: 0.7376\n",
      "Epoch 6/100\n",
      "2401/2401 [==============================] - 3s 1ms/step - loss: 0.5539 - acc: 0.7284 - val_loss: 0.5506 - val_acc: 0.7368\n",
      "Epoch 7/100\n",
      "2401/2401 [==============================] - 4s 2ms/step - loss: 0.5514 - acc: 0.7289 - val_loss: 0.5449 - val_acc: 0.7330\n",
      "Epoch 8/100\n",
      "2401/2401 [==============================] - 4s 2ms/step - loss: 0.5515 - acc: 0.7306 - val_loss: 0.5449 - val_acc: 0.7376\n",
      "Epoch 9/100\n",
      "2401/2401 [==============================] - 4s 2ms/step - loss: 0.5513 - acc: 0.7312 - val_loss: 0.5468 - val_acc: 0.7347\n",
      "Epoch 10/100\n",
      "2401/2401 [==============================] - 4s 2ms/step - loss: 0.5491 - acc: 0.7309 - val_loss: 0.5445 - val_acc: 0.7389\n",
      "Epoch 11/100\n",
      "2401/2401 [==============================] - 4s 2ms/step - loss: 0.5496 - acc: 0.7300 - val_loss: 0.5468 - val_acc: 0.7368\n",
      "Epoch 12/100\n",
      "2401/2401 [==============================] - 5s 2ms/step - loss: 0.5493 - acc: 0.7294 - val_loss: 0.5454 - val_acc: 0.7364\n",
      "Epoch 13/100\n",
      "2401/2401 [==============================] - 5s 2ms/step - loss: 0.5487 - acc: 0.7318 - val_loss: 0.5491 - val_acc: 0.7332\n",
      "Epoch 14/100\n",
      "2401/2401 [==============================] - 4s 2ms/step - loss: 0.5475 - acc: 0.7325 - val_loss: 0.5426 - val_acc: 0.7364\n",
      "Epoch 15/100\n",
      "2401/2401 [==============================] - 4s 2ms/step - loss: 0.5479 - acc: 0.7315 - val_loss: 0.5438 - val_acc: 0.7382\n",
      "Epoch 16/100\n",
      "2401/2401 [==============================] - 4s 2ms/step - loss: 0.5474 - acc: 0.7318 - val_loss: 0.5426 - val_acc: 0.7366\n",
      "Epoch 17/100\n",
      "2401/2401 [==============================] - 4s 2ms/step - loss: 0.5461 - acc: 0.7334 - val_loss: 0.5424 - val_acc: 0.7395\n",
      "Epoch 18/100\n",
      "2401/2401 [==============================] - 4s 2ms/step - loss: 0.5464 - acc: 0.7330 - val_loss: 0.5427 - val_acc: 0.7382\n",
      "Epoch 19/100\n",
      "2401/2401 [==============================] - 4s 2ms/step - loss: 0.5460 - acc: 0.7346 - val_loss: 0.5436 - val_acc: 0.7374\n",
      "Epoch 20/100\n",
      "2401/2401 [==============================] - 4s 2ms/step - loss: 0.5454 - acc: 0.7323 - val_loss: 0.5443 - val_acc: 0.7366\n",
      "Epoch 21/100\n",
      "2401/2401 [==============================] - 4s 1ms/step - loss: 0.5457 - acc: 0.7336 - val_loss: 0.5452 - val_acc: 0.7380\n",
      "Epoch 22/100\n",
      "2401/2401 [==============================] - 4s 1ms/step - loss: 0.5459 - acc: 0.7339 - val_loss: 0.5422 - val_acc: 0.7380\n",
      "Epoch 23/100\n",
      "2401/2401 [==============================] - 4s 1ms/step - loss: 0.5441 - acc: 0.7337 - val_loss: 0.5465 - val_acc: 0.7384\n",
      "Epoch 24/100\n",
      "2401/2401 [==============================] - 4s 2ms/step - loss: 0.5447 - acc: 0.7332 - val_loss: 0.5436 - val_acc: 0.7347\n",
      "Epoch 25/100\n",
      "2401/2401 [==============================] - 4s 2ms/step - loss: 0.5444 - acc: 0.7344 - val_loss: 0.5450 - val_acc: 0.7366\n",
      "Epoch 26/100\n",
      "2401/2401 [==============================] - 4s 1ms/step - loss: 0.5440 - acc: 0.7328 - val_loss: 0.5423 - val_acc: 0.7387\n",
      "Epoch 27/100\n",
      "2401/2401 [==============================] - 4s 1ms/step - loss: 0.5439 - acc: 0.7345 - val_loss: 0.5488 - val_acc: 0.7384\n",
      "Epoch 28/100\n",
      "2401/2401 [==============================] - 4s 1ms/step - loss: 0.5438 - acc: 0.7343 - val_loss: 0.5434 - val_acc: 0.7362\n",
      "Epoch 29/100\n",
      "2401/2401 [==============================] - 4s 1ms/step - loss: 0.5431 - acc: 0.7338 - val_loss: 0.5433 - val_acc: 0.7341\n",
      "Epoch 30/100\n",
      "2401/2401 [==============================] - 3s 1ms/step - loss: 0.5425 - acc: 0.7349 - val_loss: 0.5448 - val_acc: 0.7378\n",
      "Epoch 31/100\n",
      "2401/2401 [==============================] - 4s 1ms/step - loss: 0.5429 - acc: 0.7347 - val_loss: 0.5445 - val_acc: 0.7366\n",
      "Epoch 32/100\n",
      "2401/2401 [==============================] - 4s 1ms/step - loss: 0.5425 - acc: 0.7346 - val_loss: 0.5441 - val_acc: 0.7364\n",
      "Epoch 33/100\n",
      "2401/2401 [==============================] - 4s 1ms/step - loss: 0.5433 - acc: 0.7366 - val_loss: 0.5455 - val_acc: 0.7370\n",
      "Epoch 34/100\n",
      "2401/2401 [==============================] - 4s 1ms/step - loss: 0.5433 - acc: 0.7342 - val_loss: 0.5435 - val_acc: 0.7364\n",
      "Epoch 35/100\n",
      "2401/2401 [==============================] - 4s 1ms/step - loss: 0.5416 - acc: 0.7353 - val_loss: 0.5434 - val_acc: 0.7359\n",
      "Epoch 36/100\n",
      "2401/2401 [==============================] - 4s 1ms/step - loss: 0.5422 - acc: 0.7354 - val_loss: 0.5443 - val_acc: 0.7324\n",
      "Epoch 37/100\n",
      "2401/2401 [==============================] - 4s 1ms/step - loss: 0.5426 - acc: 0.7350 - val_loss: 0.5445 - val_acc: 0.7366\n",
      "Epoch 38/100\n",
      "2401/2401 [==============================] - 3s 1ms/step - loss: 0.5416 - acc: 0.7362 - val_loss: 0.5513 - val_acc: 0.7355\n",
      "Epoch 39/100\n",
      "2401/2401 [==============================] - 3s 1ms/step - loss: 0.5428 - acc: 0.7356 - val_loss: 0.5458 - val_acc: 0.7364\n",
      "Epoch 40/100\n",
      "2401/2401 [==============================] - 4s 1ms/step - loss: 0.5419 - acc: 0.7367 - val_loss: 0.5428 - val_acc: 0.7366\n",
      "Epoch 41/100\n",
      "2401/2401 [==============================] - 3s 1ms/step - loss: 0.5419 - acc: 0.7351 - val_loss: 0.5424 - val_acc: 0.7380\n",
      "Epoch 42/100\n",
      "2401/2401 [==============================] - 3s 1ms/step - loss: 0.5414 - acc: 0.7371 - val_loss: 0.5445 - val_acc: 0.7372\n",
      "Epoch 43/100\n",
      "2401/2401 [==============================] - 3s 1ms/step - loss: 0.5415 - acc: 0.7356 - val_loss: 0.5431 - val_acc: 0.7393\n",
      "Epoch 44/100\n",
      "2401/2401 [==============================] - 3s 1ms/step - loss: 0.5411 - acc: 0.7358 - val_loss: 0.5438 - val_acc: 0.7364\n",
      "Epoch 45/100\n",
      "2401/2401 [==============================] - 3s 1ms/step - loss: 0.5413 - acc: 0.7382 - val_loss: 0.5494 - val_acc: 0.7362\n",
      "Epoch 46/100\n",
      "2401/2401 [==============================] - 3s 1ms/step - loss: 0.5401 - acc: 0.7364 - val_loss: 0.5450 - val_acc: 0.7370\n",
      "Epoch 47/100\n",
      "2401/2401 [==============================] - 3s 1ms/step - loss: 0.5418 - acc: 0.7360 - val_loss: 0.5449 - val_acc: 0.7370\n",
      "Epoch 48/100\n",
      "2401/2401 [==============================] - 3s 1ms/step - loss: 0.5415 - acc: 0.7371 - val_loss: 0.5448 - val_acc: 0.7372\n",
      "Epoch 49/100\n",
      "2401/2401 [==============================] - 3s 1ms/step - loss: 0.5398 - acc: 0.7363 - val_loss: 0.5447 - val_acc: 0.7376\n",
      "Epoch 50/100\n",
      "2401/2401 [==============================] - 4s 1ms/step - loss: 0.5412 - acc: 0.7360 - val_loss: 0.5477 - val_acc: 0.7370\n",
      "Epoch 51/100\n",
      "2401/2401 [==============================] - 3s 1ms/step - loss: 0.5407 - acc: 0.7373 - val_loss: 0.5454 - val_acc: 0.7320\n",
      "Epoch 52/100\n",
      "2401/2401 [==============================] - 3s 1ms/step - loss: 0.5409 - acc: 0.7361 - val_loss: 0.5470 - val_acc: 0.7357\n",
      "Epoch 53/100\n",
      "2401/2401 [==============================] - 3s 1ms/step - loss: 0.5404 - acc: 0.7349 - val_loss: 0.5460 - val_acc: 0.7309\n",
      "Epoch 54/100\n",
      "2401/2401 [==============================] - 3s 1ms/step - loss: 0.5403 - acc: 0.7369 - val_loss: 0.5445 - val_acc: 0.7355\n",
      "Epoch 55/100\n",
      "2401/2401 [==============================] - 4s 1ms/step - loss: 0.5403 - acc: 0.7359 - val_loss: 0.5438 - val_acc: 0.7345\n",
      "Epoch 56/100\n",
      "2401/2401 [==============================] - 4s 1ms/step - loss: 0.5408 - acc: 0.7358 - val_loss: 0.5461 - val_acc: 0.7353\n",
      "Epoch 57/100\n",
      "2401/2401 [==============================] - 4s 1ms/step - loss: 0.5398 - acc: 0.7352 - val_loss: 0.5435 - val_acc: 0.7366\n"
     ]
    }
   ],
   "source": [
    "# Train the model\n",
    "history = nn.fit(X_train_scaled, y_train, batch_size=8, \n",
    "                 validation_split=0.2, epochs=100, callbacks=[callback])"
   ]
  },
  {
   "cell_type": "code",
   "execution_count": 20,
   "metadata": {},
   "outputs": [
    {
     "name": "stdout",
     "output_type": "stream",
     "text": [
      "322/322 - 0s - loss: 0.5565 - acc: 0.7317 - 274ms/epoch - 850us/step\n",
      "Loss: 0.5565485954284668, Accuracy: 0.731681227684021\n"
     ]
    }
   ],
   "source": [
    "# Evaluate the model using the test data\n",
    "model_loss, model_accuracy = nn.evaluate(X_test_scaled,y_test,verbose=2)\n",
    "print(f\"Loss: {model_loss}, Accuracy: {model_accuracy}\")"
   ]
  },
  {
   "cell_type": "code",
   "execution_count": 21,
   "metadata": {},
   "outputs": [
    {
     "data": {
      "image/png": "[encoded data removed]",
      "text/plain": [
       "<Figure size 432x288 with 1 Axes>"
      ]
     },
     "metadata": {
      "needs_background": "light"
     },
     "output_type": "display_data"
    }
   ],
   "source": [
    "# Plot the model to check for overfitting\n",
    "plot_metric(history)"
   ]
  },
  {
   "cell_type": "markdown",
   "metadata": {},
   "source": [
    "As seen above, our model does not overfit nearly as badly as our previous model. If we wanted to minimize the slight overfitting that occurs, we can adjust the patience in early stopping. Let us now use keras tuner to get the optimal hyperparameters that can be found using the Hyperband algorithm. "
   ]
  },
  {
   "cell_type": "markdown",
   "metadata": {},
   "source": [
    "Let us now use Keras Tuner so that we can find the optimal hyperparameters for our neural network application."
   ]
  },
  {
   "cell_type": "code",
   "execution_count": 22,
   "metadata": {},
   "outputs": [],
   "source": [
    "import keras_tuner\n",
    "from tensorflow import keras\n"
   ]
  },
  {
   "cell_type": "code",
   "execution_count": 23,
   "metadata": {},
   "outputs": [],
   "source": [
    "def create_model(hp):\n",
    "    nn_model = tf.keras.models.Sequential()\n",
    "\n",
    "    # Allow kerastuner to decide which activation function to use in hidden layers\n",
    "    activation = hp.Choice('activation',['relu','sigmoid','tanh'])\n",
    "    \n",
    "    # Allow kerastuner to decide number of neurons in first layer\n",
    "    nn_model.add(tf.keras.layers.Dense(units=hp.Int('first_units',\n",
    "        min_value=1,\n",
    "        max_value=60,\n",
    "        step=5), activation=activation, input_dim=46))\n",
    "\n",
    "    # Allow kerastuner to decide number of hidden layers and neurons in hidden layers\n",
    "    for i in range(hp.Int('num_layers', 1, 5)):\n",
    "        nn_model.add(tf.keras.layers.Dense(units=hp.Int('units_' + str(i),\n",
    "            min_value=1,\n",
    "            max_value=30,\n",
    "            step=5),\n",
    "            activation=activation))\n",
    "    \n",
    "    nn_model.add(tf.keras.layers.Dense(units=1, activation=\"sigmoid\"))\n",
    "\n",
    "    # Compile the model\n",
    "    nn_model.compile(loss=\"binary_crossentropy\", optimizer='adam', metrics=[\"accuracy\"])\n",
    "    \n",
    "    return nn_model"
   ]
  },
  {
   "cell_type": "code",
   "execution_count": 25,
   "metadata": {},
   "outputs": [],
   "source": [
    "# Initialize a tuner w/ Hyperband Alg\n",
    "tuner = kt.Hyperband(\n",
    "    create_model,\n",
    "    objective=\"val_accuracy\",\n",
    "    max_epochs=40,\n",
    "    overwrite=True,\n",
    "    project_name = 'AlphabetSoupCharity_project2',\n",
    "    hyperband_iterations=2)"
   ]
  },
  {
   "cell_type": "code",
   "execution_count": 26,
   "metadata": {
    "scrolled": false
   },
   "outputs": [
    {
     "name": "stdout",
     "output_type": "stream",
     "text": [
      "Trial 180 Complete [00h 00m 59s]\n",
      "val_accuracy: 0.7314868569374084\n",
      "\n",
      "Best val_accuracy So Far: 0.7343051433563232\n",
      "Total elapsed time: 00h 35m 54s\n",
      "INFO:tensorflow:Oracle triggered exit\n"
     ]
    }
   ],
   "source": [
    "tuner.search(X_train_scaled, y_train, epochs=100, validation_data=(X_test_scaled, y_test))"
   ]
  },
  {
   "cell_type": "code",
   "execution_count": 31,
   "metadata": {},
   "outputs": [
    {
     "name": "stdout",
     "output_type": "stream",
     "text": [
      "WARNING:tensorflow:Detecting that an object or model or tf.train.Checkpoint is being deleted with unrestored values. See the following logs for the specific values in question. To silence these warnings, use `status.expect_partial()`. See https://www.tensorflow.org/api_docs/python/tf/train/Checkpoint#restorefor details about the status object returned by the restore function.\n",
      "WARNING:tensorflow:Value in checkpoint could not be found in the restored object: (root).optimizer.iter\n",
      "WARNING:tensorflow:Value in checkpoint could not be found in the restored object: (root).optimizer.beta_1\n",
      "WARNING:tensorflow:Value in checkpoint could not be found in the restored object: (root).optimizer.beta_2\n",
      "WARNING:tensorflow:Value in checkpoint could not be found in the restored object: (root).optimizer.decay\n",
      "WARNING:tensorflow:Value in checkpoint could not be found in the restored object: (root).optimizer.learning_rate\n",
      "WARNING:tensorflow:Detecting that an object or model or tf.train.Checkpoint is being deleted with unrestored values. See the following logs for the specific values in question. To silence these warnings, use `status.expect_partial()`. See https://www.tensorflow.org/api_docs/python/tf/train/Checkpoint#restorefor details about the status object returned by the restore function.\n",
      "WARNING:tensorflow:Value in checkpoint could not be found in the restored object: (root).optimizer.iter\n",
      "WARNING:tensorflow:Value in checkpoint could not be found in the restored object: (root).optimizer.beta_1\n",
      "WARNING:tensorflow:Value in checkpoint could not be found in the restored object: (root).optimizer.beta_2\n",
      "WARNING:tensorflow:Value in checkpoint could not be found in the restored object: (root).optimizer.decay\n",
      "WARNING:tensorflow:Value in checkpoint could not be found in the restored object: (root).optimizer.learning_rate\n"
     ]
    },
    {
     "data": {
      "text/plain": [
       "{'activation': 'relu',\n",
       " 'first_units': 46,\n",
       " 'num_layers': 3,\n",
       " 'units_0': 26,\n",
       " 'units_1': 16,\n",
       " 'units_2': 6,\n",
       " 'units_3': 11,\n",
       " 'units_4': 21,\n",
       " 'tuner/epochs': 14,\n",
       " 'tuner/initial_epoch': 5,\n",
       " 'tuner/bracket': 2,\n",
       " 'tuner/round': 1,\n",
       " 'tuner/trial_id': '0153'}"
      ]
     },
     "execution_count": 31,
     "metadata": {},
     "output_type": "execute_result"
    }
   ],
   "source": [
    "best_model = tuner.get_best_models()[0]\n",
    "best_hyper = tuner.get_best_hyperparameters()[0]\n",
    "best_hyper.values"
   ]
  },
  {
   "cell_type": "code",
   "execution_count": 28,
   "metadata": {},
   "outputs": [],
   "source": [
    "# Export our best model to HDF5 file\n",
    "best_model.save('Data/AlphabetSoupCharity_Optimization.h5')"
   ]
  },
  {
   "cell_type": "code",
   "execution_count": null,
   "metadata": {},
   "outputs": [],
   "source": []
  }
 ],
 "metadata": {
  "kernelspec": {
   "display_name": "Python 3 (ipykernel)",
   "language": "python",
   "name": "python3"
  },
  "language_info": {
   "codemirror_mode": {
    "name": "ipython",
    "version": 3
   },
   "file_extension": ".py",
   "mimetype": "text/x-python",
   "name": "python",
   "nbconvert_exporter": "python",
   "pygments_lexer": "ipython3",
   "version": "3.9.12"
  },
  "vscode": {
   "interpreter": {
    "hash": "31f2aee4e71d21fbe5cf8b01ff0e069b9275f58929596ceb00d14d90e3e16cd6"
   }
  }
 },
 "nbformat": 4,
 "nbformat_minor": 4
}
