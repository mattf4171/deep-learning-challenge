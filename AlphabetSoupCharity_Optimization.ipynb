{
 "cells": [
  {
   "cell_type": "markdown",
   "metadata": {},
   "source": [
    "## Preprocessing"
   ]
  },
  {
   "cell_type": "code",
   "execution_count": 1,
   "metadata": {},
   "outputs": [
    {
     "name": "stderr",
     "output_type": "stream",
     "text": [
      "2023-07-25 22:29:32.361860: I tensorflow/core/platform/cpu_feature_guard.cc:193] This TensorFlow binary is optimized with oneAPI Deep Neural Network Library (oneDNN) to use the following CPU instructions in performance-critical operations:  AVX2 FMA\n",
      "To enable them in other operations, rebuild TensorFlow with the appropriate compiler flags.\n"
     ]
    },
    {
     "data": {
      "text/html": [
       "<div>\n",
       "<style scoped>\n",
       "    .dataframe tbody tr th:only-of-type {\n",
       "        vertical-align: middle;\n",
       "    }\n",
       "\n",
       "    .dataframe tbody tr th {\n",
       "        vertical-align: top;\n",
       "    }\n",
       "\n",
       "    .dataframe thead th {\n",
       "        text-align: right;\n",
       "    }\n",
       "</style>\n",
       "<table border=\"1\" class=\"dataframe\">\n",
       "  <thead>\n",
       "    <tr style=\"text-align: right;\">\n",
       "      <th></th>\n",
       "      <th>EIN</th>\n",
       "      <th>NAME</th>\n",
       "      <th>APPLICATION_TYPE</th>\n",
       "      <th>AFFILIATION</th>\n",
       "      <th>CLASSIFICATION</th>\n",
       "      <th>USE_CASE</th>\n",
       "      <th>ORGANIZATION</th>\n",
       "      <th>STATUS</th>\n",
       "      <th>INCOME_AMT</th>\n",
       "      <th>SPECIAL_CONSIDERATIONS</th>\n",
       "      <th>ASK_AMT</th>\n",
       "      <th>IS_SUCCESSFUL</th>\n",
       "    </tr>\n",
       "  </thead>\n",
       "  <tbody>\n",
       "    <tr>\n",
       "      <th>0</th>\n",
       "      <td>10520599</td>\n",
       "      <td>BLUE KNIGHTS MOTORCYCLE CLUB</td>\n",
       "      <td>T10</td>\n",
       "      <td>Independent</td>\n",
       "      <td>C1000</td>\n",
       "      <td>ProductDev</td>\n",
       "      <td>Association</td>\n",
       "      <td>1</td>\n",
       "      <td>0</td>\n",
       "      <td>N</td>\n",
       "      <td>5000</td>\n",
       "      <td>1</td>\n",
       "    </tr>\n",
       "    <tr>\n",
       "      <th>1</th>\n",
       "      <td>10531628</td>\n",
       "      <td>AMERICAN CHESAPEAKE CLUB CHARITABLE TR</td>\n",
       "      <td>T3</td>\n",
       "      <td>Independent</td>\n",
       "      <td>C2000</td>\n",
       "      <td>Preservation</td>\n",
       "      <td>Co-operative</td>\n",
       "      <td>1</td>\n",
       "      <td>1-9999</td>\n",
       "      <td>N</td>\n",
       "      <td>108590</td>\n",
       "      <td>1</td>\n",
       "    </tr>\n",
       "    <tr>\n",
       "      <th>2</th>\n",
       "      <td>10547893</td>\n",
       "      <td>ST CLOUD PROFESSIONAL FIREFIGHTERS</td>\n",
       "      <td>T5</td>\n",
       "      <td>CompanySponsored</td>\n",
       "      <td>C3000</td>\n",
       "      <td>ProductDev</td>\n",
       "      <td>Association</td>\n",
       "      <td>1</td>\n",
       "      <td>0</td>\n",
       "      <td>N</td>\n",
       "      <td>5000</td>\n",
       "      <td>0</td>\n",
       "    </tr>\n",
       "    <tr>\n",
       "      <th>3</th>\n",
       "      <td>10553066</td>\n",
       "      <td>SOUTHSIDE ATHLETIC ASSOCIATION</td>\n",
       "      <td>T3</td>\n",
       "      <td>CompanySponsored</td>\n",
       "      <td>C2000</td>\n",
       "      <td>Preservation</td>\n",
       "      <td>Trust</td>\n",
       "      <td>1</td>\n",
       "      <td>10000-24999</td>\n",
       "      <td>N</td>\n",
       "      <td>6692</td>\n",
       "      <td>1</td>\n",
       "    </tr>\n",
       "    <tr>\n",
       "      <th>4</th>\n",
       "      <td>10556103</td>\n",
       "      <td>GENETIC RESEARCH INSTITUTE OF THE DESERT</td>\n",
       "      <td>T3</td>\n",
       "      <td>Independent</td>\n",
       "      <td>C1000</td>\n",
       "      <td>Heathcare</td>\n",
       "      <td>Trust</td>\n",
       "      <td>1</td>\n",
       "      <td>100000-499999</td>\n",
       "      <td>N</td>\n",
       "      <td>142590</td>\n",
       "      <td>1</td>\n",
       "    </tr>\n",
       "  </tbody>\n",
       "</table>\n",
       "</div>"
      ],
      "text/plain": [
       "        EIN                                      NAME APPLICATION_TYPE  \\\n",
       "0  10520599              BLUE KNIGHTS MOTORCYCLE CLUB              T10   \n",
       "1  10531628    AMERICAN CHESAPEAKE CLUB CHARITABLE TR               T3   \n",
       "2  10547893        ST CLOUD PROFESSIONAL FIREFIGHTERS               T5   \n",
       "3  10553066            SOUTHSIDE ATHLETIC ASSOCIATION               T3   \n",
       "4  10556103  GENETIC RESEARCH INSTITUTE OF THE DESERT               T3   \n",
       "\n",
       "        AFFILIATION CLASSIFICATION      USE_CASE  ORGANIZATION  STATUS  \\\n",
       "0       Independent          C1000    ProductDev   Association       1   \n",
       "1       Independent          C2000  Preservation  Co-operative       1   \n",
       "2  CompanySponsored          C3000    ProductDev   Association       1   \n",
       "3  CompanySponsored          C2000  Preservation         Trust       1   \n",
       "4       Independent          C1000     Heathcare         Trust       1   \n",
       "\n",
       "      INCOME_AMT SPECIAL_CONSIDERATIONS  ASK_AMT  IS_SUCCESSFUL  \n",
       "0              0                      N     5000              1  \n",
       "1         1-9999                      N   108590              1  \n",
       "2              0                      N     5000              0  \n",
       "3    10000-24999                      N     6692              1  \n",
       "4  100000-499999                      N   142590              1  "
      ]
     },
     "execution_count": 1,
     "metadata": {},
     "output_type": "execute_result"
    }
   ],
   "source": [
    "# Import our dependencies\n",
    "from sklearn.model_selection import train_test_split\n",
    "from sklearn.preprocessing import StandardScaler\n",
    "import matplotlib.pyplot as plt\n",
    "import pandas as pd\n",
    "import tensorflow as tf\n",
    "import keras_tuner as kt\n",
    "from keras import layers\n",
    "\n",
    "#  Import and read the charity_data.csv.\n",
    "import pandas as pd \n",
    "application_df = pd.read_csv(\"https://static.bc-edx.com/data/dl-1-2/m21/lms/starter/charity_data.csv\")\n",
    "application_df.head()"
   ]
  },
  {
   "cell_type": "code",
   "execution_count": 2,
   "metadata": {},
   "outputs": [],
   "source": [
    "# Drop the non-beneficial ID columns, 'EIN' and 'NAME'.\n",
    "application_df.drop(columns=['EIN', 'NAME'], axis=1, inplace=True)\n"
   ]
  },
  {
   "cell_type": "code",
   "execution_count": 3,
   "metadata": {},
   "outputs": [
    {
     "name": "stdout",
     "output_type": "stream",
     "text": [
      "APPLICATION_TYPE :  17\n",
      "AFFILIATION :  6\n",
      "CLASSIFICATION :  71\n",
      "USE_CASE :  5\n",
      "ORGANIZATION :  4\n",
      "STATUS :  2\n",
      "INCOME_AMT :  9\n",
      "SPECIAL_CONSIDERATIONS :  2\n",
      "ASK_AMT :  8747\n",
      "IS_SUCCESSFUL :  2\n"
     ]
    }
   ],
   "source": [
    "# Determine the number of unique values in each column.\n",
    "for col in application_df.columns:\n",
    "    print(col, ': ',len(application_df[col].unique()))"
   ]
  },
  {
   "cell_type": "code",
   "execution_count": 4,
   "metadata": {},
   "outputs": [
    {
     "data": {
      "text/plain": [
       "T3     27037\n",
       "T4      1542\n",
       "T6      1216\n",
       "T5      1173\n",
       "T19     1065\n",
       "T8       737\n",
       "T7       725\n",
       "T10      528\n",
       "T9       156\n",
       "T13       66\n",
       "T12       27\n",
       "T2        16\n",
       "T25        3\n",
       "T14        3\n",
       "T29        2\n",
       "T15        2\n",
       "T17        1\n",
       "Name: APPLICATION_TYPE, dtype: int64"
      ]
     },
     "execution_count": 4,
     "metadata": {},
     "output_type": "execute_result"
    }
   ],
   "source": [
    "# Look at APPLICATION_TYPE value counts for binning\n",
    "application_df['APPLICATION_TYPE'].value_counts()"
   ]
  },
  {
   "cell_type": "code",
   "execution_count": 5,
   "metadata": {},
   "outputs": [
    {
     "data": {
      "text/plain": [
       "T3       27037\n",
       "T4        1542\n",
       "T6        1216\n",
       "T5        1173\n",
       "T19       1065\n",
       "T8         737\n",
       "T7         725\n",
       "T10        528\n",
       "Other      276\n",
       "Name: APPLICATION_TYPE, dtype: int64"
      ]
     },
     "execution_count": 5,
     "metadata": {},
     "output_type": "execute_result"
    }
   ],
   "source": [
    "# Choose a cutoff value and create a list of application types to be replaced\n",
    "# use the variable name `application_types_to_replace`\n",
    "application_types_to_replace = ['T9','T13','T12','T2','T25','T14','T29','T15','T17']\n",
    "\n",
    "# Replace in dataframe\n",
    "for app in application_types_to_replace:\n",
    "    application_df['APPLICATION_TYPE'] = application_df['APPLICATION_TYPE'].replace(app,\"Other\")\n",
    "\n",
    "# Check to make sure binning was successful\n",
    "application_df['APPLICATION_TYPE'].value_counts()"
   ]
  },
  {
   "cell_type": "code",
   "execution_count": 6,
   "metadata": {},
   "outputs": [
    {
     "data": {
      "text/plain": [
       "C1000    17326\n",
       "C2000     6074\n",
       "C1200     4837\n",
       "C3000     1918\n",
       "C2100     1883\n",
       "         ...  \n",
       "C4120        1\n",
       "C8210        1\n",
       "C2561        1\n",
       "C4500        1\n",
       "C2150        1\n",
       "Name: CLASSIFICATION, Length: 71, dtype: int64"
      ]
     },
     "execution_count": 6,
     "metadata": {},
     "output_type": "execute_result"
    }
   ],
   "source": [
    "# Look at CLASSIFICATION value counts for binning\n",
    "application_df['CLASSIFICATION'].value_counts()"
   ]
  },
  {
   "cell_type": "code",
   "execution_count": 7,
   "metadata": {},
   "outputs": [
    {
     "data": {
      "text/plain": [
       "C1000    17326\n",
       "C2000     6074\n",
       "C1200     4837\n",
       "C3000     1918\n",
       "C2100     1883\n",
       "C7000      777\n",
       "C1700      287\n",
       "C4000      194\n",
       "C5000      116\n",
       "C1270      114\n",
       "C2700      104\n",
       "C2800       95\n",
       "C7100       75\n",
       "C1300       58\n",
       "C1280       50\n",
       "C1230       36\n",
       "C1400       34\n",
       "C7200       32\n",
       "C2300       32\n",
       "C1240       30\n",
       "C8000       20\n",
       "C7120       18\n",
       "C1500       16\n",
       "C1800       15\n",
       "C6000       15\n",
       "C1250       14\n",
       "C8200       11\n",
       "C1238       10\n",
       "C1278       10\n",
       "C1235        9\n",
       "C1237        9\n",
       "C7210        7\n",
       "C2400        6\n",
       "C1720        6\n",
       "C4100        6\n",
       "C1257        5\n",
       "C1600        5\n",
       "C1260        3\n",
       "C2710        3\n",
       "C0           3\n",
       "C3200        2\n",
       "C1234        2\n",
       "C1246        2\n",
       "C1267        2\n",
       "C1256        2\n",
       "Name: CLASSIFICATION, dtype: int64"
      ]
     },
     "execution_count": 7,
     "metadata": {},
     "output_type": "execute_result"
    }
   ],
   "source": [
    "# You may find it helpful to look at CLASSIFICATION value counts >1\n",
    "application_df['CLASSIFICATION'].value_counts()[application_df['CLASSIFICATION'].value_counts() > 1]"
   ]
  },
  {
   "cell_type": "code",
   "execution_count": 8,
   "metadata": {},
   "outputs": [
    {
     "data": {
      "text/plain": [
       "C1000    17326\n",
       "C2000     6074\n",
       "C1200     4837\n",
       "C3000     1918\n",
       "C2100     1883\n",
       "Other     1003\n",
       "C7000      777\n",
       "C1700      287\n",
       "C4000      194\n",
       "Name: CLASSIFICATION, dtype: int64"
      ]
     },
     "execution_count": 8,
     "metadata": {},
     "output_type": "execute_result"
    }
   ],
   "source": [
    "# Choose a cutoff value and create a list of classifications to be replaced\n",
    "# use the variable name `classifications_to_replace`\n",
    "classification_valuecounts = application_df['CLASSIFICATION'].value_counts()\n",
    "classifications_to_replace = classification_valuecounts[classification_valuecounts < 150].index\n",
    "\n",
    "# Replace in dataframe\n",
    "for cls in classifications_to_replace:\n",
    "    application_df['CLASSIFICATION'] = application_df['CLASSIFICATION'].replace(cls,\"Other\")\n",
    "    \n",
    "# Check to make sure binning was successful\n",
    "application_df['CLASSIFICATION'].value_counts()"
   ]
  },
  {
   "cell_type": "code",
   "execution_count": 9,
   "metadata": {},
   "outputs": [
    {
     "data": {
      "text/html": [
       "<div>\n",
       "<style scoped>\n",
       "    .dataframe tbody tr th:only-of-type {\n",
       "        vertical-align: middle;\n",
       "    }\n",
       "\n",
       "    .dataframe tbody tr th {\n",
       "        vertical-align: top;\n",
       "    }\n",
       "\n",
       "    .dataframe thead th {\n",
       "        text-align: right;\n",
       "    }\n",
       "</style>\n",
       "<table border=\"1\" class=\"dataframe\">\n",
       "  <thead>\n",
       "    <tr style=\"text-align: right;\">\n",
       "      <th></th>\n",
       "      <th>STATUS</th>\n",
       "      <th>ASK_AMT</th>\n",
       "      <th>IS_SUCCESSFUL</th>\n",
       "      <th>APPLICATION_TYPE_Other</th>\n",
       "      <th>APPLICATION_TYPE_T10</th>\n",
       "      <th>APPLICATION_TYPE_T19</th>\n",
       "      <th>APPLICATION_TYPE_T3</th>\n",
       "      <th>APPLICATION_TYPE_T4</th>\n",
       "      <th>APPLICATION_TYPE_T5</th>\n",
       "      <th>APPLICATION_TYPE_T6</th>\n",
       "      <th>...</th>\n",
       "      <th>INCOME_AMT_1-9999</th>\n",
       "      <th>INCOME_AMT_10000-24999</th>\n",
       "      <th>INCOME_AMT_100000-499999</th>\n",
       "      <th>INCOME_AMT_10M-50M</th>\n",
       "      <th>INCOME_AMT_1M-5M</th>\n",
       "      <th>INCOME_AMT_25000-99999</th>\n",
       "      <th>INCOME_AMT_50M+</th>\n",
       "      <th>INCOME_AMT_5M-10M</th>\n",
       "      <th>SPECIAL_CONSIDERATIONS_N</th>\n",
       "      <th>SPECIAL_CONSIDERATIONS_Y</th>\n",
       "    </tr>\n",
       "  </thead>\n",
       "  <tbody>\n",
       "    <tr>\n",
       "      <th>0</th>\n",
       "      <td>1</td>\n",
       "      <td>5000</td>\n",
       "      <td>1</td>\n",
       "      <td>0</td>\n",
       "      <td>1</td>\n",
       "      <td>0</td>\n",
       "      <td>0</td>\n",
       "      <td>0</td>\n",
       "      <td>0</td>\n",
       "      <td>0</td>\n",
       "      <td>...</td>\n",
       "      <td>0</td>\n",
       "      <td>0</td>\n",
       "      <td>0</td>\n",
       "      <td>0</td>\n",
       "      <td>0</td>\n",
       "      <td>0</td>\n",
       "      <td>0</td>\n",
       "      <td>0</td>\n",
       "      <td>1</td>\n",
       "      <td>0</td>\n",
       "    </tr>\n",
       "    <tr>\n",
       "      <th>1</th>\n",
       "      <td>1</td>\n",
       "      <td>108590</td>\n",
       "      <td>1</td>\n",
       "      <td>0</td>\n",
       "      <td>0</td>\n",
       "      <td>0</td>\n",
       "      <td>1</td>\n",
       "      <td>0</td>\n",
       "      <td>0</td>\n",
       "      <td>0</td>\n",
       "      <td>...</td>\n",
       "      <td>1</td>\n",
       "      <td>0</td>\n",
       "      <td>0</td>\n",
       "      <td>0</td>\n",
       "      <td>0</td>\n",
       "      <td>0</td>\n",
       "      <td>0</td>\n",
       "      <td>0</td>\n",
       "      <td>1</td>\n",
       "      <td>0</td>\n",
       "    </tr>\n",
       "    <tr>\n",
       "      <th>2</th>\n",
       "      <td>1</td>\n",
       "      <td>5000</td>\n",
       "      <td>0</td>\n",
       "      <td>0</td>\n",
       "      <td>0</td>\n",
       "      <td>0</td>\n",
       "      <td>0</td>\n",
       "      <td>0</td>\n",
       "      <td>1</td>\n",
       "      <td>0</td>\n",
       "      <td>...</td>\n",
       "      <td>0</td>\n",
       "      <td>0</td>\n",
       "      <td>0</td>\n",
       "      <td>0</td>\n",
       "      <td>0</td>\n",
       "      <td>0</td>\n",
       "      <td>0</td>\n",
       "      <td>0</td>\n",
       "      <td>1</td>\n",
       "      <td>0</td>\n",
       "    </tr>\n",
       "    <tr>\n",
       "      <th>3</th>\n",
       "      <td>1</td>\n",
       "      <td>6692</td>\n",
       "      <td>1</td>\n",
       "      <td>0</td>\n",
       "      <td>0</td>\n",
       "      <td>0</td>\n",
       "      <td>1</td>\n",
       "      <td>0</td>\n",
       "      <td>0</td>\n",
       "      <td>0</td>\n",
       "      <td>...</td>\n",
       "      <td>0</td>\n",
       "      <td>1</td>\n",
       "      <td>0</td>\n",
       "      <td>0</td>\n",
       "      <td>0</td>\n",
       "      <td>0</td>\n",
       "      <td>0</td>\n",
       "      <td>0</td>\n",
       "      <td>1</td>\n",
       "      <td>0</td>\n",
       "    </tr>\n",
       "    <tr>\n",
       "      <th>4</th>\n",
       "      <td>1</td>\n",
       "      <td>142590</td>\n",
       "      <td>1</td>\n",
       "      <td>0</td>\n",
       "      <td>0</td>\n",
       "      <td>0</td>\n",
       "      <td>1</td>\n",
       "      <td>0</td>\n",
       "      <td>0</td>\n",
       "      <td>0</td>\n",
       "      <td>...</td>\n",
       "      <td>0</td>\n",
       "      <td>0</td>\n",
       "      <td>1</td>\n",
       "      <td>0</td>\n",
       "      <td>0</td>\n",
       "      <td>0</td>\n",
       "      <td>0</td>\n",
       "      <td>0</td>\n",
       "      <td>1</td>\n",
       "      <td>0</td>\n",
       "    </tr>\n",
       "  </tbody>\n",
       "</table>\n",
       "<p>5 rows × 47 columns</p>\n",
       "</div>"
      ],
      "text/plain": [
       "   STATUS  ASK_AMT  IS_SUCCESSFUL  APPLICATION_TYPE_Other  \\\n",
       "0       1     5000              1                       0   \n",
       "1       1   108590              1                       0   \n",
       "2       1     5000              0                       0   \n",
       "3       1     6692              1                       0   \n",
       "4       1   142590              1                       0   \n",
       "\n",
       "   APPLICATION_TYPE_T10  APPLICATION_TYPE_T19  APPLICATION_TYPE_T3  \\\n",
       "0                     1                     0                    0   \n",
       "1                     0                     0                    1   \n",
       "2                     0                     0                    0   \n",
       "3                     0                     0                    1   \n",
       "4                     0                     0                    1   \n",
       "\n",
       "   APPLICATION_TYPE_T4  APPLICATION_TYPE_T5  APPLICATION_TYPE_T6  ...  \\\n",
       "0                    0                    0                    0  ...   \n",
       "1                    0                    0                    0  ...   \n",
       "2                    0                    1                    0  ...   \n",
       "3                    0                    0                    0  ...   \n",
       "4                    0                    0                    0  ...   \n",
       "\n",
       "   INCOME_AMT_1-9999  INCOME_AMT_10000-24999  INCOME_AMT_100000-499999  \\\n",
       "0                  0                       0                         0   \n",
       "1                  1                       0                         0   \n",
       "2                  0                       0                         0   \n",
       "3                  0                       1                         0   \n",
       "4                  0                       0                         1   \n",
       "\n",
       "   INCOME_AMT_10M-50M  INCOME_AMT_1M-5M  INCOME_AMT_25000-99999  \\\n",
       "0                   0                 0                       0   \n",
       "1                   0                 0                       0   \n",
       "2                   0                 0                       0   \n",
       "3                   0                 0                       0   \n",
       "4                   0                 0                       0   \n",
       "\n",
       "   INCOME_AMT_50M+  INCOME_AMT_5M-10M  SPECIAL_CONSIDERATIONS_N  \\\n",
       "0                0                  0                         1   \n",
       "1                0                  0                         1   \n",
       "2                0                  0                         1   \n",
       "3                0                  0                         1   \n",
       "4                0                  0                         1   \n",
       "\n",
       "   SPECIAL_CONSIDERATIONS_Y  \n",
       "0                         0  \n",
       "1                         0  \n",
       "2                         0  \n",
       "3                         0  \n",
       "4                         0  \n",
       "\n",
       "[5 rows x 47 columns]"
      ]
     },
     "execution_count": 9,
     "metadata": {},
     "output_type": "execute_result"
    }
   ],
   "source": [
    "# Convert categorical data to numeric with `pd.get_dummies`\n",
    "application_df = pd.get_dummies(application_df)\n",
    "application_df.head()"
   ]
  },
  {
   "cell_type": "code",
   "execution_count": 10,
   "metadata": {},
   "outputs": [],
   "source": [
    "# Split our preprocessed data into our features and target arrays\n",
    "X = application_df.drop('IS_SUCCESSFUL', axis=1).values\n",
    "y = application_df['IS_SUCCESSFUL'].values\n",
    "# Split the preprocessed data into a training and testing dataset\n",
    "X_train, X_test, y_train, y_test = train_test_split(X,y, test_size=0.3, random_state=42)"
   ]
  },
  {
   "cell_type": "code",
   "execution_count": 11,
   "metadata": {},
   "outputs": [],
   "source": [
    "# Create a StandardScaler instances\n",
    "scaler = StandardScaler()\n",
    "\n",
    "# Fit the StandardScaler\n",
    "X_scaler = scaler.fit(X_train)\n",
    "\n",
    "# Scale the data\n",
    "X_train_scaled = X_scaler.transform(X_train)\n",
    "X_test_scaled = X_scaler.transform(X_test)"
   ]
  },
  {
   "cell_type": "markdown",
   "metadata": {},
   "source": [
    "## Compile, Train and Evaluate the Model"
   ]
  },
  {
   "cell_type": "code",
   "execution_count": 12,
   "metadata": {},
   "outputs": [
    {
     "name": "stdout",
     "output_type": "stream",
     "text": [
      "Model: \"sequential\"\n",
      "_________________________________________________________________\n",
      " Layer (type)                Output Shape              Param #   \n",
      "=================================================================\n",
      " dense (Dense)               (24009, 100)              4700      \n",
      "                                                                 \n",
      " dropout (Dropout)           (24009, 100)              0         \n",
      "                                                                 \n",
      " dense_1 (Dense)             (24009, 50)               5050      \n",
      "                                                                 \n",
      " dense_2 (Dense)             (24009, 25)               1275      \n",
      "                                                                 \n",
      " dense_3 (Dense)             (24009, 1)                26        \n",
      "                                                                 \n",
      "=================================================================\n",
      "Total params: 11,051\n",
      "Trainable params: 11,051\n",
      "Non-trainable params: 0\n",
      "_________________________________________________________________\n"
     ]
    },
    {
     "name": "stderr",
     "output_type": "stream",
     "text": [
      "2023-07-25 22:29:38.767359: I tensorflow/core/platform/cpu_feature_guard.cc:193] This TensorFlow binary is optimized with oneAPI Deep Neural Network Library (oneDNN) to use the following CPU instructions in performance-critical operations:  AVX2 FMA\n",
      "To enable them in other operations, rebuild TensorFlow with the appropriate compiler flags.\n"
     ]
    }
   ],
   "source": [
    "# Define the model - deep neural net, i.e., the number of input features and hidden nodes for each layer.\n",
    "input_features = X_train_scaled.shape[1]\n",
    "hidden_layer1 = 100\n",
    "hidden_layer2 = 50\n",
    "hidden_layer3 = 25\n",
    "# hidden_layer4 = 10\n",
    "\n",
    "\n",
    "nn = tf.keras.Sequential(\n",
    "    [\n",
    "        # First hidden layer\n",
    "        layers.Dense(hidden_layer1, activation=\"relu\"),\n",
    "        # Dropout Regularization\n",
    "        layers.Dropout(.2),\n",
    "        # Second hidden layer\n",
    "        layers.Dense(hidden_layer2, activation=\"relu\"),\n",
    "        # Third hidden layer\n",
    "        layers.Dense(hidden_layer3, activation='relu'),\n",
    "        # Dropout Regularization\n",
    "#         layers.Dropout(.2, input_shape=(2,)),\n",
    "        # Third hidden layer\n",
    "#         layers.Dense(hidden_layer4, activation='relu'),\n",
    "        # Dropout Regularization\n",
    "#         layers.Dropout(.2, input_shape=(2,)),\n",
    "        # Output layer\n",
    "        layers.Dense(1, activation='sigmoid'),\n",
    "    ]\n",
    ")\n",
    "# call model on training data\n",
    "nn(X_train_scaled)\n",
    "# Check the structure of the model\n",
    "nn.summary()"
   ]
  },
  {
   "cell_type": "code",
   "execution_count": 13,
   "metadata": {},
   "outputs": [],
   "source": [
    "# Compile the model\n",
    "nn.compile(optimizer=tf.keras.optimizers.Adam(learning_rate=1e-3),\n",
    "              loss=tf.keras.losses.BinaryCrossentropy(), metrics=['acc'])\n"
   ]
  },
  {
   "cell_type": "code",
   "execution_count": 14,
   "metadata": {},
   "outputs": [],
   "source": [
    "# Stop training when overfitting occurs\n",
    "callback = tf.keras.callbacks.EarlyStopping(monitor='loss', patience=8)"
   ]
  },
  {
   "cell_type": "code",
   "execution_count": 15,
   "metadata": {
    "scrolled": false
   },
   "outputs": [
    {
     "name": "stdout",
     "output_type": "stream",
     "text": [
      "Epoch 1/100\n",
      "2401/2401 [==============================] - 5s 2ms/step - loss: 0.5782 - acc: 0.7147 - val_loss: 0.5555 - val_acc: 0.7362\n",
      "Epoch 2/100\n",
      "2401/2401 [==============================] - 4s 2ms/step - loss: 0.5612 - acc: 0.7254 - val_loss: 0.5510 - val_acc: 0.7343\n",
      "Epoch 3/100\n",
      "2401/2401 [==============================] - 4s 2ms/step - loss: 0.5589 - acc: 0.7257 - val_loss: 0.5468 - val_acc: 0.7391\n",
      "Epoch 4/100\n",
      "2401/2401 [==============================] - 4s 2ms/step - loss: 0.5560 - acc: 0.7281 - val_loss: 0.5493 - val_acc: 0.7353\n",
      "Epoch 5/100\n",
      "2401/2401 [==============================] - 4s 2ms/step - loss: 0.5546 - acc: 0.7296 - val_loss: 0.5480 - val_acc: 0.7359\n",
      "Epoch 6/100\n",
      "2401/2401 [==============================] - 4s 2ms/step - loss: 0.5521 - acc: 0.7294 - val_loss: 0.5481 - val_acc: 0.7349\n",
      "Epoch 7/100\n",
      "2401/2401 [==============================] - 4s 2ms/step - loss: 0.5526 - acc: 0.7293 - val_loss: 0.5466 - val_acc: 0.7368\n",
      "Epoch 8/100\n",
      "2401/2401 [==============================] - 4s 2ms/step - loss: 0.5526 - acc: 0.7296 - val_loss: 0.5448 - val_acc: 0.7376\n",
      "Epoch 9/100\n",
      "2401/2401 [==============================] - 4s 2ms/step - loss: 0.5502 - acc: 0.7294 - val_loss: 0.5460 - val_acc: 0.7374\n",
      "Epoch 10/100\n",
      "2401/2401 [==============================] - 4s 2ms/step - loss: 0.5506 - acc: 0.7306 - val_loss: 0.5438 - val_acc: 0.7355\n",
      "Epoch 11/100\n",
      "2401/2401 [==============================] - 4s 2ms/step - loss: 0.5484 - acc: 0.7309 - val_loss: 0.5448 - val_acc: 0.7364\n",
      "Epoch 12/100\n",
      "2401/2401 [==============================] - 4s 2ms/step - loss: 0.5484 - acc: 0.7315 - val_loss: 0.5454 - val_acc: 0.7374\n",
      "Epoch 13/100\n",
      "2401/2401 [==============================] - 4s 2ms/step - loss: 0.5490 - acc: 0.7313 - val_loss: 0.5491 - val_acc: 0.7393\n",
      "Epoch 14/100\n",
      "2401/2401 [==============================] - 4s 2ms/step - loss: 0.5495 - acc: 0.7335 - val_loss: 0.5457 - val_acc: 0.7389\n",
      "Epoch 15/100\n",
      "2401/2401 [==============================] - 4s 2ms/step - loss: 0.5474 - acc: 0.7328 - val_loss: 0.5443 - val_acc: 0.7347\n",
      "Epoch 16/100\n",
      "2401/2401 [==============================] - 4s 2ms/step - loss: 0.5476 - acc: 0.7320 - val_loss: 0.5414 - val_acc: 0.7370\n",
      "Epoch 17/100\n",
      "2401/2401 [==============================] - 4s 2ms/step - loss: 0.5465 - acc: 0.7322 - val_loss: 0.5456 - val_acc: 0.7339\n",
      "Epoch 18/100\n",
      "2401/2401 [==============================] - 4s 1ms/step - loss: 0.5464 - acc: 0.7332 - val_loss: 0.5448 - val_acc: 0.7370\n",
      "Epoch 19/100\n",
      "2401/2401 [==============================] - 4s 2ms/step - loss: 0.5466 - acc: 0.7317 - val_loss: 0.5510 - val_acc: 0.7422\n",
      "Epoch 20/100\n",
      "2401/2401 [==============================] - 4s 2ms/step - loss: 0.5463 - acc: 0.7347 - val_loss: 0.5455 - val_acc: 0.7366\n",
      "Epoch 21/100\n",
      "2401/2401 [==============================] - 4s 2ms/step - loss: 0.5461 - acc: 0.7323 - val_loss: 0.5450 - val_acc: 0.7362\n",
      "Epoch 22/100\n",
      "2401/2401 [==============================] - 4s 2ms/step - loss: 0.5457 - acc: 0.7317 - val_loss: 0.5450 - val_acc: 0.7364\n",
      "Epoch 23/100\n",
      "2401/2401 [==============================] - 4s 2ms/step - loss: 0.5456 - acc: 0.7329 - val_loss: 0.5423 - val_acc: 0.7384\n",
      "Epoch 24/100\n",
      "2401/2401 [==============================] - 4s 2ms/step - loss: 0.5454 - acc: 0.7337 - val_loss: 0.5458 - val_acc: 0.7372\n",
      "Epoch 25/100\n",
      "2401/2401 [==============================] - 4s 2ms/step - loss: 0.5459 - acc: 0.7341 - val_loss: 0.5440 - val_acc: 0.7380\n",
      "Epoch 26/100\n",
      "2401/2401 [==============================] - 4s 2ms/step - loss: 0.5443 - acc: 0.7323 - val_loss: 0.5419 - val_acc: 0.7353\n",
      "Epoch 27/100\n",
      "2401/2401 [==============================] - 4s 2ms/step - loss: 0.5450 - acc: 0.7337 - val_loss: 0.5440 - val_acc: 0.7364\n",
      "Epoch 28/100\n",
      "2401/2401 [==============================] - 4s 2ms/step - loss: 0.5444 - acc: 0.7333 - val_loss: 0.5438 - val_acc: 0.7374\n",
      "Epoch 29/100\n",
      "2401/2401 [==============================] - 4s 2ms/step - loss: 0.5441 - acc: 0.7332 - val_loss: 0.5467 - val_acc: 0.7339\n",
      "Epoch 30/100\n",
      "2401/2401 [==============================] - 4s 2ms/step - loss: 0.5437 - acc: 0.7319 - val_loss: 0.5471 - val_acc: 0.7368\n",
      "Epoch 31/100\n",
      "2401/2401 [==============================] - 4s 2ms/step - loss: 0.5435 - acc: 0.7340 - val_loss: 0.5441 - val_acc: 0.7320\n",
      "Epoch 32/100\n",
      "2401/2401 [==============================] - 4s 2ms/step - loss: 0.5433 - acc: 0.7353 - val_loss: 0.5433 - val_acc: 0.7366\n",
      "Epoch 33/100\n",
      "2401/2401 [==============================] - 4s 2ms/step - loss: 0.5433 - acc: 0.7346 - val_loss: 0.5431 - val_acc: 0.7301\n",
      "Epoch 34/100\n",
      "2401/2401 [==============================] - 4s 2ms/step - loss: 0.5436 - acc: 0.7337 - val_loss: 0.5475 - val_acc: 0.7378\n",
      "Epoch 35/100\n",
      "2401/2401 [==============================] - 4s 2ms/step - loss: 0.5432 - acc: 0.7326 - val_loss: 0.5436 - val_acc: 0.7345\n",
      "Epoch 36/100\n",
      "2401/2401 [==============================] - 4s 2ms/step - loss: 0.5429 - acc: 0.7351 - val_loss: 0.5439 - val_acc: 0.7393\n",
      "Epoch 37/100\n",
      "2401/2401 [==============================] - 4s 2ms/step - loss: 0.5432 - acc: 0.7344 - val_loss: 0.5453 - val_acc: 0.7357\n",
      "Epoch 38/100\n",
      "2401/2401 [==============================] - 4s 2ms/step - loss: 0.5429 - acc: 0.7345 - val_loss: 0.5437 - val_acc: 0.7359\n",
      "Epoch 39/100\n",
      "2401/2401 [==============================] - 4s 2ms/step - loss: 0.5417 - acc: 0.7359 - val_loss: 0.5437 - val_acc: 0.7355\n",
      "Epoch 40/100\n",
      "2401/2401 [==============================] - 4s 2ms/step - loss: 0.5433 - acc: 0.7339 - val_loss: 0.5443 - val_acc: 0.7370\n",
      "Epoch 41/100\n",
      "2401/2401 [==============================] - 4s 2ms/step - loss: 0.5426 - acc: 0.7349 - val_loss: 0.5434 - val_acc: 0.7401\n",
      "Epoch 42/100\n",
      "2401/2401 [==============================] - 4s 2ms/step - loss: 0.5417 - acc: 0.7349 - val_loss: 0.5445 - val_acc: 0.7368\n",
      "Epoch 43/100\n",
      "2401/2401 [==============================] - 4s 2ms/step - loss: 0.5420 - acc: 0.7349 - val_loss: 0.5423 - val_acc: 0.7374\n",
      "Epoch 44/100\n",
      "2401/2401 [==============================] - 4s 2ms/step - loss: 0.5412 - acc: 0.7365 - val_loss: 0.5455 - val_acc: 0.7374\n",
      "Epoch 45/100\n",
      "2401/2401 [==============================] - 4s 2ms/step - loss: 0.5415 - acc: 0.7344 - val_loss: 0.5460 - val_acc: 0.7370\n",
      "Epoch 46/100\n",
      "2401/2401 [==============================] - 4s 2ms/step - loss: 0.5414 - acc: 0.7348 - val_loss: 0.5427 - val_acc: 0.7395\n",
      "Epoch 47/100\n",
      "2401/2401 [==============================] - 4s 2ms/step - loss: 0.5407 - acc: 0.7347 - val_loss: 0.5451 - val_acc: 0.7389\n",
      "Epoch 48/100\n",
      "2401/2401 [==============================] - 4s 2ms/step - loss: 0.5410 - acc: 0.7353 - val_loss: 0.5422 - val_acc: 0.7395\n",
      "Epoch 49/100\n",
      "2401/2401 [==============================] - 4s 2ms/step - loss: 0.5405 - acc: 0.7360 - val_loss: 0.5417 - val_acc: 0.7374\n",
      "Epoch 50/100\n",
      "2401/2401 [==============================] - 4s 2ms/step - loss: 0.5410 - acc: 0.7346 - val_loss: 0.5431 - val_acc: 0.7380\n",
      "Epoch 51/100\n",
      "2401/2401 [==============================] - 4s 2ms/step - loss: 0.5409 - acc: 0.7369 - val_loss: 0.5441 - val_acc: 0.7389\n",
      "Epoch 52/100\n",
      "2401/2401 [==============================] - 4s 2ms/step - loss: 0.5403 - acc: 0.7351 - val_loss: 0.5437 - val_acc: 0.7353\n",
      "Epoch 53/100\n",
      "2401/2401 [==============================] - 4s 2ms/step - loss: 0.5410 - acc: 0.7366 - val_loss: 0.5415 - val_acc: 0.7391\n",
      "Epoch 54/100\n",
      "2401/2401 [==============================] - 4s 2ms/step - loss: 0.5416 - acc: 0.7364 - val_loss: 0.5433 - val_acc: 0.7393\n",
      "Epoch 55/100\n",
      "2401/2401 [==============================] - 4s 2ms/step - loss: 0.5394 - acc: 0.7365 - val_loss: 0.5458 - val_acc: 0.7362\n",
      "Epoch 56/100\n",
      "2401/2401 [==============================] - 4s 2ms/step - loss: 0.5407 - acc: 0.7358 - val_loss: 0.5449 - val_acc: 0.7380\n",
      "Epoch 57/100\n",
      "2401/2401 [==============================] - 4s 2ms/step - loss: 0.5405 - acc: 0.7349 - val_loss: 0.5454 - val_acc: 0.7403\n",
      "Epoch 58/100\n",
      "2401/2401 [==============================] - 4s 2ms/step - loss: 0.5399 - acc: 0.7348 - val_loss: 0.5453 - val_acc: 0.7387\n",
      "Epoch 59/100\n",
      "2401/2401 [==============================] - 4s 2ms/step - loss: 0.5404 - acc: 0.7367 - val_loss: 0.5440 - val_acc: 0.7403\n",
      "Epoch 60/100\n",
      "2401/2401 [==============================] - 4s 2ms/step - loss: 0.5403 - acc: 0.7351 - val_loss: 0.5434 - val_acc: 0.7416\n",
      "Epoch 61/100\n"
     ]
    },
    {
     "name": "stdout",
     "output_type": "stream",
     "text": [
      "2401/2401 [==============================] - 4s 2ms/step - loss: 0.5404 - acc: 0.7370 - val_loss: 0.5430 - val_acc: 0.7397\n",
      "Epoch 62/100\n",
      "2401/2401 [==============================] - 4s 2ms/step - loss: 0.5400 - acc: 0.7360 - val_loss: 0.5436 - val_acc: 0.7393\n",
      "Epoch 63/100\n",
      "2401/2401 [==============================] - 4s 2ms/step - loss: 0.5410 - acc: 0.7366 - val_loss: 0.5436 - val_acc: 0.7397\n"
     ]
    }
   ],
   "source": [
    "# Train the model\n",
    "history = nn.fit(X_train_scaled, y_train, batch_size=8, \n",
    "                 validation_split=0.2, epochs=100, callbacks=[callback])"
   ]
  },
  {
   "cell_type": "code",
   "execution_count": 16,
   "metadata": {},
   "outputs": [
    {
     "name": "stdout",
     "output_type": "stream",
     "text": [
      "322/322 - 0s - loss: 0.5559 - acc: 0.7285 - 343ms/epoch - 1ms/step\n",
      "Loss: 0.5558937788009644, Accuracy: 0.7284742593765259\n"
     ]
    }
   ],
   "source": [
    "# Evaluate the model using the test data\n",
    "model_loss, model_accuracy = nn.evaluate(X_test_scaled,y_test,verbose=2)\n",
    "print(f\"Loss: {model_loss}, Accuracy: {model_accuracy}\")"
   ]
  },
  {
   "cell_type": "code",
   "execution_count": 17,
   "metadata": {},
   "outputs": [],
   "source": [
    "def plot_metric(history, metric='loss'):\n",
    "    \"\"\" Plot training and test values for a metric. \"\"\"\n",
    "\n",
    "    val_metric = 'val_'+metric\n",
    "    plt.plot(history.history[metric])\n",
    "    plt.plot(history.history[val_metric])\n",
    "    plt.title('model '+metric)\n",
    "    plt.ylabel(metric)\n",
    "    plt.xlabel('epoch')\n",
    "    plt.legend(['train', 'test'])\n",
    "    plt.show();"
   ]
  },
  {
   "cell_type": "code",
   "execution_count": 18,
   "metadata": {},
   "outputs": [
    {
     "data": {
      "image/png": "[encoded data removed]",
      "text/plain": [
       "<Figure size 432x288 with 1 Axes>"
      ]
     },
     "metadata": {
      "needs_background": "light"
     },
     "output_type": "display_data"
    }
   ],
   "source": [
    "# Plot the model to check for overfitting\n",
    "plot_metric(history)"
   ]
  },
  {
   "cell_type": "markdown",
   "metadata": {},
   "source": [
    "Let us now use Keras Tuner so that we can find the optimal hyperparameters for our neural network application."
   ]
  },
  {
   "cell_type": "code",
   "execution_count": 24,
   "metadata": {},
   "outputs": [],
   "source": [
    "import keras_tuner\n",
    "from tensorflow import keras\n"
   ]
  },
  {
   "cell_type": "code",
   "execution_count": 62,
   "metadata": {},
   "outputs": [],
   "source": [
    "def create_model(hp):\n",
    "    nn_model = tf.keras.models.Sequential()\n",
    "\n",
    "    # Allow kerastuner to decide which activation function to use in hidden layers\n",
    "    activation = hp.Choice('activation',['relu','tanh'])\n",
    "    \n",
    "    # Allow kerastuner to decide number of neurons in first layer\n",
    "    nn_model.add(tf.keras.layers.Dense(units=hp.Int('first_units',\n",
    "        min_value=1,\n",
    "        max_value=30,\n",
    "        step=5), activation=activation, input_dim=46))\n",
    "\n",
    "    # Allow kerastuner to decide number of hidden layers and neurons in hidden layers\n",
    "    for i in range(hp.Int('num_layers', 1, 5)):\n",
    "        nn_model.add(tf.keras.layers.Dense(units=hp.Int('units_' + str(i),\n",
    "            min_value=1,\n",
    "            max_value=30,\n",
    "            step=5),\n",
    "            activation=activation))\n",
    "    \n",
    "    nn_model.add(tf.keras.layers.Dense(units=1, activation=\"sigmoid\"))\n",
    "\n",
    "    # Compile the model\n",
    "    nn_model.compile(loss=\"binary_crossentropy\", optimizer='adam', metrics=[\"accuracy\"])\n",
    "    \n",
    "    return nn_model"
   ]
  },
  {
   "cell_type": "code",
   "execution_count": 63,
   "metadata": {},
   "outputs": [
    {
     "name": "stdout",
     "output_type": "stream",
     "text": [
      "INFO:tensorflow:Reloading Tuner from ./untitled_project/tuner0.json\n"
     ]
    }
   ],
   "source": [
    "# Initialize a tuner w/ Hyperband Alg\n",
    "tuner = kt.Hyperband(\n",
    "    create_model,\n",
    "    objective=\"val_accuracy\",\n",
    "    max_epochs=20,\n",
    "    project_name = 'AlphabetSoupCharity_project',\n",
    "    hyperband_iterations=2)"
   ]
  },
  {
   "cell_type": "code",
   "execution_count": null,
   "metadata": {
    "scrolled": false
   },
   "outputs": [
    {
     "name": "stdout",
     "output_type": "stream",
     "text": [
      "Trial 224 Complete [00h 00m 26s]\n",
      "val_accuracy: 0.7314868569374084\n",
      "\n",
      "Best val_accuracy So Far: 0.7338192462921143\n",
      "Total elapsed time: 00h 28m 56s\n",
      "\n",
      "Search: Running Trial #225\n",
      "\n",
      "Value             |Best Value So Far |Hyperparameter\n",
      "relu              |relu              |activation\n",
      "6                 |26                |first_units\n",
      "4                 |2                 |num_layers\n",
      "6                 |21                |units_0\n",
      "6                 |21                |units_1\n",
      "26                |16                |units_2\n",
      "26                |16                |units_3\n",
      "21                |21                |units_4\n",
      "34                |12                |tuner/epochs\n",
      "12                |4                 |tuner/initial_epoch\n",
      "2                 |4                 |tuner/bracket\n",
      "1                 |2                 |tuner/round\n",
      "0205              |0102              |tuner/trial_id\n",
      "\n",
      "Epoch 13/34\n",
      "458/751 [=================>............] - ETA: 0s - loss: 0.5566 - accuracy: 0.7301"
     ]
    }
   ],
   "source": [
    "tuner.search(X_train_scaled, y_train, epochs=100, validation_data=(X_test_scaled, y_test))"
   ]
  },
  {
   "cell_type": "code",
   "execution_count": null,
   "metadata": {},
   "outputs": [],
   "source": [
    "best_model = tuner.get_best_models()[0]"
   ]
  },
  {
   "cell_type": "code",
   "execution_count": 19,
   "metadata": {},
   "outputs": [],
   "source": [
    "# Export our best model to HDF5 file\n",
    "best_model.save('Data/AlphabetSoupCharity_Optimization.h5')"
   ]
  },
  {
   "cell_type": "code",
   "execution_count": null,
   "metadata": {},
   "outputs": [],
   "source": []
  }
 ],
 "metadata": {
  "kernelspec": {
   "display_name": "Python 3 (ipykernel)",
   "language": "python",
   "name": "python3"
  },
  "language_info": {
   "codemirror_mode": {
    "name": "ipython",
    "version": 3
   },
   "file_extension": ".py",
   "mimetype": "text/x-python",
   "name": "python",
   "nbconvert_exporter": "python",
   "pygments_lexer": "ipython3",
   "version": "3.9.12"
  },
  "vscode": {
   "interpreter": {
    "hash": "31f2aee4e71d21fbe5cf8b01ff0e069b9275f58929596ceb00d14d90e3e16cd6"
   }
  }
 },
 "nbformat": 4,
 "nbformat_minor": 4
}
